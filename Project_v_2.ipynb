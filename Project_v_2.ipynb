{
  "nbformat": 4,
  "nbformat_minor": 0,
  "metadata": {
    "colab": {
      "name": "Project v_2",
      "provenance": [],
      "collapsed_sections": [],
      "authorship_tag": "ABX9TyMDDU8KAkw4OY9SifYBVYke",
      "include_colab_link": true
    },
    "kernelspec": {
      "name": "python3",
      "display_name": "Python 3"
    },
    "language_info": {
      "name": "python"
    }
  },
  "cells": [
    {
      "cell_type": "markdown",
      "metadata": {
        "id": "view-in-github",
        "colab_type": "text"
      },
      "source": [
        "<a href=\"https://colab.research.google.com/github/SLTHRN/Heart_disease_ML/blob/main/Project_v_2.ipynb\" target=\"_parent\"><img src=\"https://colab.research.google.com/assets/colab-badge.svg\" alt=\"Open In Colab\"/></a>"
      ]
    },
    {
      "cell_type": "code",
      "metadata": {
        "id": "1MEG1wRshydF"
      },
      "source": [
        "### IMPORT LIBRARIES\n",
        "\n",
        "import torch\n",
        "import torch.nn as nn\n",
        "from torch.utils.data.sampler import SubsetRandomSampler\n",
        "\n",
        "import torchvision\n",
        "from torchvision import datasets, transforms\n",
        "import torch.optim as optim\n",
        "import torch.nn.functional as F\n",
        "import matplotlib.pyplot as plt\n",
        "\n",
        "import numpy as np\n",
        "import pandas as pd\n",
        "import sklearn\n",
        "\n",
        "import time"
      ],
      "execution_count": 14,
      "outputs": []
    },
    {
      "cell_type": "code",
      "metadata": {
        "id": "rIju1otWh7D5",
        "colab": {
          "base_uri": "https://localhost:8080/"
        },
        "outputId": "c1800cba-b238-4c2f-b96d-2e61e892a67d"
      },
      "source": [
        "### IMPORTING CSV FILE FROM GOOGLE DRIVE\n",
        "\n",
        "import csv\n",
        "from google.colab import drive\n",
        "drive.mount('/content/drive')\n",
        "\n",
        "#FILE LOCATION IN GOOGLE DRIVE\n",
        "directory = '/content/drive/MyDrive/APS360PROJECT/New data.csv'"
      ],
      "execution_count": 15,
      "outputs": [
        {
          "output_type": "stream",
          "text": [
            "Drive already mounted at /content/drive; to attempt to forcibly remount, call drive.mount(\"/content/drive\", force_remount=True).\n"
          ],
          "name": "stdout"
        }
      ]
    },
    {
      "cell_type": "code",
      "metadata": {
        "id": "1GiqzUgDiELf"
      },
      "source": [
        "### DEFINING CNN MODEL NETWORK\n",
        "\n",
        "import torch\n",
        "import torch.nn as nn\n",
        "import torch.nn.functional as F\n",
        "\n",
        "#DEFINING A 3 LAYER FULLY CONNECTED MODEL\n",
        "class neuralNetwork(nn.Module):\n",
        "\n",
        "  def __init__(self):\n",
        "    super(neuralNetwork, self).__init__()\n",
        "    self.layer1 = nn.Linear(13,50)\n",
        "    self.layer2 = nn.Linear(50,70)\n",
        "    self.layer3 = nn.Linear(70,5)\n",
        "\n",
        "  def forward(self, x):\n",
        "    #x = x.squeeze()\n",
        "    activation1 = self.layer1(x)\n",
        "    activation1 = F.softmax(activation1)\n",
        "    activation2 = F.softmax(self.layer2(activation1))\n",
        "    output = self.layer3(activation2)\n",
        "    return output"
      ],
      "execution_count": 16,
      "outputs": []
    },
    {
      "cell_type": "code",
      "metadata": {
        "id": "GwwPtLFjiGRj"
      },
      "source": [
        "### LOADING CSV FILE FROM DIRECTORY\n",
        "\n",
        "def load_csv(directory):\n",
        "  file = open(directory, \"r\")\n",
        "  retrieved = csv.reader(file)\n",
        "\n",
        "  data_size = -1\n",
        "  dictionary = {}\n",
        "  data = []\n",
        "\n",
        "  for row in retrieved:\n",
        "    data_size+= 1\n",
        "    if data_size == 0:\n",
        "      for i in range(len(row)):\n",
        "        dictionary[i] = row[i]\n",
        "    else:\n",
        "      data.append(row)\n",
        "\n",
        "  return data_size, data, dictionary"
      ],
      "execution_count": 17,
      "outputs": []
    },
    {
      "cell_type": "code",
      "metadata": {
        "id": "X0RYJAeyi5Fo"
      },
      "source": [
        "### DATA STRING TO FLOAT\n",
        "\n",
        "def str_to_flt(data):\n",
        "  fail_count = 0\n",
        "\n",
        "  for i in range(len(data)):\n",
        "    row = data[i]\n",
        "    new_row = []\n",
        "    for j in range(len(row)):\n",
        "      if row[j].isnumeric():\n",
        "        new_row.append(float(row[j]))\n",
        "      else:\n",
        "        test = row[j].split('.')\n",
        "        if len(test) == 2 and (test[0].isnumeric() and test[1].isnumeric()):\n",
        "          new_row.append(float(row[j]))\n",
        "        else:\n",
        "          fail_count += 1\n",
        "          print('!!!!!! Not Numeric, count:' + str(fail_count))\n",
        "          new_row.append(row[j])\n",
        "    data[i] = new_row\n",
        "  return data"
      ],
      "execution_count": 18,
      "outputs": []
    },
    {
      "cell_type": "code",
      "metadata": {
        "id": "jqY_LcPnmk-A"
      },
      "source": [
        "### GET LABELS\n",
        "\n",
        "def seperate_labels(data):\n",
        "  labels = []\n",
        "\n",
        "  for row in data:\n",
        "    labels.append(int(row[-1]))\n",
        "    del row[-1]\n",
        "\n",
        "  #labels = get_one_hot(labels)\n",
        "\n",
        "  return data, labels"
      ],
      "execution_count": 19,
      "outputs": []
    },
    {
      "cell_type": "code",
      "metadata": {
        "id": "BSKJO4M7rzpb"
      },
      "source": [
        "### TURN LABELS INTO ONE-HOT ENCODINGS\n",
        "\n",
        "def get_one_hot(labels):\n",
        "  new_labels = []\n",
        "  for label in labels:\n",
        "    if label == 0.0:\n",
        "      new_labels.append([1,0,0,0,0])\n",
        "    elif label == 1.0:\n",
        "      new_labels.append([0,1,0,0,0])\n",
        "    elif label == 2.0:\n",
        "      new_labels.append([0,0,1,0,0])\n",
        "    elif label == 3.0:\n",
        "      new_labels.append([0,0,0,1,0])\n",
        "    elif label == 4.0:\n",
        "      new_labels.append([0,0,0,0,1])\n",
        "  return new_labels\n"
      ],
      "execution_count": 20,
      "outputs": []
    },
    {
      "cell_type": "code",
      "metadata": {
        "id": "MQbrrVS2kJ70"
      },
      "source": [
        "### GENERATING SAMPLERS FOR DATALOADERS\n",
        "\n",
        "def get_samplers(data_size):\n",
        "  torch.manual_seed(0)\n",
        "  index = torch.randperm(data_size)\n",
        "  end_training = int(len(index)*0.6) # Defining index for last data sample in training data\n",
        "  end_validation = end_training + int(len(index)*0.2) # Defining index for last data sample in validation set\n",
        "\n",
        "  training_sampler, validation_sampler, testing_sampler = index[:end_training], index[end_training:end_validation], index[end_validation:]\n",
        "\n",
        "  return training_sampler, validation_sampler, testing_sampler"
      ],
      "execution_count": 21,
      "outputs": []
    },
    {
      "cell_type": "code",
      "metadata": {
        "id": "hswJZRwxk5TN"
      },
      "source": [
        "### GENERATING DATA LOADERS\n",
        "\n",
        "def get_loaders(data, sampler, batch_size = 64):\n",
        "  dataset = torch.tensor(data)\n",
        "\n",
        "  loader = torch.utils.data.DataLoader(dataset=dataset, batch_size=batch_size, sampler=sampler)\n",
        "  \n",
        "  return loader"
      ],
      "execution_count": 22,
      "outputs": []
    },
    {
      "cell_type": "code",
      "metadata": {
        "id": "VHIY_lvpw_hP"
      },
      "source": [
        "### CALCULATE ACCURACY OF MODEL\n",
        "\n",
        "def get_accuracy(model, d_loader, l_loader, show_data = False):\n",
        "  correct = 0\n",
        "  total = 0\n",
        "\n",
        "  for (data, label) in zip(d_loader, l_loader):\n",
        "    output = model(data)\n",
        "    pred = output.max(1)[1]\n",
        "    if show_data:\n",
        "      print(\"The predictions are: {}\".format(pred))\n",
        "      print(\"The labels are: {}\".format(label))\n",
        "    for i in range(len(pred)):\n",
        "      total += 1.0\n",
        "      if label[i] == pred[i]:\n",
        "        correct += 1.0\n",
        "  return correct/total"
      ],
      "execution_count": 23,
      "outputs": []
    },
    {
      "cell_type": "code",
      "metadata": {
        "id": "fzznCfmL3sGC"
      },
      "source": [
        "### MODEL TRAINING\n",
        "\n",
        "def training(t_loader, t_label_loader, v_loader, v_label_loader, epochs=10, learning_rate=0.001):\n",
        "  n = 0\n",
        "  iters, losses, training_accuracy, validation_accuracy = [], [], [], []\n",
        "\n",
        "  model = neuralNetwork()\n",
        "  criterion = nn.CrossEntropyLoss()\n",
        "  optimizer = torch.optim.Adam(model.parameters(), lr=learning_rate)\n",
        "\n",
        "  print(\"Starting training\")\n",
        "  start_time = time.time()\n",
        "  for epoch in range(epochs):\n",
        "    for (data, label) in zip(t_loader, t_label_loader):\n",
        "      output = model(data)\n",
        "      loss = criterion(output, label)\n",
        "      loss.backward()\n",
        "      optimizer.step()\n",
        "      optimizer.zero_grad()\n",
        "\n",
        "      iters.append(n)\n",
        "      losses.append(float(loss)/batch_size)\n",
        "      training_accuracy.append(get_accuracy(model, t_loader, t_label_loader))\n",
        "      validation_accuracy.append(get_accuracy(model, v_loader, v_label_loader))\n",
        "      n += 1\n",
        "\n",
        "  end_time=time.time()\n",
        "  print(\"Done training, time elapsed: {:.2f} seconds\".format(end_time-start_time))\n",
        "  print(\"Number of iterations: {}\".format(iters[-1]+1))\n",
        "  print(\"Number of epochs: {}\".format(epochs))\n",
        "  plt.title(\"Training\")\n",
        "  plt.plot(iters, losses, label=\"Train\")\n",
        "  plt.xlabel(\"Iterations\")\n",
        "  plt.ylabel(\"Loss\")\n",
        "  plt.show()\n",
        "\n",
        "  plt.title(\"Accuracies\")\n",
        "  plt.plot(iters, validation_accuracy, label = \"Validation\")\n",
        "  plt.plot(iters, training_accuracy, label = \"Training\")\n",
        "  plt.xlabel(\"Iterations\")\n",
        "  plt.ylabel(\"Accuracy\")\n",
        "  plt.show\n",
        "\n",
        "  print(\"Final loss: {}\".format(losses[-1]))\n",
        "  print(\"Final training accuracy: {}\".format(training_accuracy[-1]))\n",
        "  print(\"Final validation accuracy: {}\".format(validation_accuracy[-1]))\n",
        "  return model"
      ],
      "execution_count": 24,
      "outputs": []
    },
    {
      "cell_type": "code",
      "metadata": {
        "id": "bFqCJgf9fOb1"
      },
      "source": [
        "### GET BALANCE OF DATA\n",
        "\n",
        "def data_balance(label_loader, training = False, validation = False, testing = False, get_total = False, get_ones = False, get_twos = False, get_threes = False, get_fours = False):\n",
        "  num_zeros, num_ones, num_twos, num_threes, num_fours, total = 0.0, 0.0, 0.0, 0.0, 0.0, 0.0\n",
        "  for batch in label_loader:\n",
        "    for element in batch:\n",
        "      total += 1.0\n",
        "      if element == 0.0:\n",
        "        num_zeros += 1.0\n",
        "      elif element == 1.0:\n",
        "        num_ones += 1.0\n",
        "      elif element == 2.0:\n",
        "        num_twos += 1.0\n",
        "      elif element == 3.0:\n",
        "        num_threes += 1.0\n",
        "      elif element == 4.0:\n",
        "        num_fours += 1.0\n",
        "  if training:\n",
        "    data = \"training\"\n",
        "  elif validation:\n",
        "    data = \"validation\"\n",
        "  elif testing:\n",
        "    data = testing\n",
        "  else:\n",
        "    data = \"misc.\"\n",
        "  print(\"Percentage of {} data with label 0: {}%\".format(data, num_zeros/total))\n",
        "  if get_ones:\n",
        "    print(\"Percentage of {} data with label 1: {}%\".format(data, num_ones/total))\n",
        "  if get_twos:\n",
        "    print(\"Percentage of {} data with label 2: {}%\".format(data, num_twos/total))\n",
        "  if get_threes:\n",
        "    print(\"Percentage of {} data with label 3: {}%\".format(data, num_threes/total))\n",
        "  if get_fours:\n",
        "    print(\"Percentage of {} data with label 4: {}%\".format(data, num_fours/total))\n",
        "  if get_total:\n",
        "    print(\"Size of {} set: {}\".format(data, int(total)))"
      ],
      "execution_count": 25,
      "outputs": []
    },
    {
      "cell_type": "code",
      "metadata": {
        "id": "I97Dq4kpnnSb",
        "colab": {
          "base_uri": "https://localhost:8080/",
          "height": 1000
        },
        "outputId": "c7cbfd86-3d0a-470e-a8cf-62a676d62197"
      },
      "source": [
        "### RUNNING THE CODE\n",
        "\n",
        "data_size, data, dictionary = load_csv(directory)\n",
        "data = str_to_flt(data)\n",
        "data, labels = seperate_labels(data)\n",
        "training_sampler, validation_sampler, testing_sampler = get_samplers(data_size)\n",
        "\n",
        "batch_size = 10\n",
        "training_loader = get_loaders(data, training_sampler, batch_size)\n",
        "training_label_loader = get_loaders(labels, training_sampler, batch_size)\n",
        "validation_loader = get_loaders(data, validation_sampler, batch_size)\n",
        "validation_label_loader = get_loaders(labels, validation_sampler, batch_size)\n",
        "testing_loader = get_loaders(data, testing_sampler, batch_size)\n",
        "testing_label_loader = get_loaders(labels, testing_sampler, batch_size)\n",
        "\n",
        "data_balance(training_label_loader, training = True, get_total = True)\n",
        "data_balance(validation_label_loader, validation = True, get_total = True)\n",
        "data_balance(testing_label_loader, testing = True, get_total = True)\n",
        "\n",
        "model = training(training_loader, training_label_loader, validation_loader, validation_label_loader)\n",
        "print(\"Testing accuracy: {}\".format(get_accuracy(model, testing_loader, testing_label_loader, show_data = True)))"
      ],
      "execution_count": 27,
      "outputs": [
        {
          "output_type": "stream",
          "text": [
            "Percentage of training data with label 0: 0.5224719101123596%\n",
            "Size of training set: 178.0\n",
            "Percentage of validation data with label 0: 0.5254237288135594%\n",
            "Size of validation set: 59.0\n",
            "Percentage of True data with label 0: 0.6%\n",
            "Size of True set: 60.0\n",
            "Starting training\n"
          ],
          "name": "stdout"
        },
        {
          "output_type": "stream",
          "text": [
            "/usr/local/lib/python3.7/dist-packages/ipykernel_launcher.py:19: UserWarning: Implicit dimension choice for softmax has been deprecated. Change the call to include dim=X as an argument.\n",
            "/usr/local/lib/python3.7/dist-packages/ipykernel_launcher.py:20: UserWarning: Implicit dimension choice for softmax has been deprecated. Change the call to include dim=X as an argument.\n"
          ],
          "name": "stderr"
        },
        {
          "output_type": "stream",
          "text": [
            "Done training, time elapsed: 1.99 seconds\n",
            "Number of iterations: 180\n",
            "Number of epochs: 10\n"
          ],
          "name": "stdout"
        },
        {
          "output_type": "display_data",
          "data": {
            "image/png": "[encoded data removed]",
            "text/plain": [
              "<Figure size 432x288 with 1 Axes>"
            ]
          },
          "metadata": {
            "tags": [],
            "needs_background": "light"
          }
        },
        {
          "output_type": "stream",
          "text": [
            "Final loss: 0.1502612590789795\n",
            "Final training accuracy: 0.5224719101123596\n",
            "Final validation accuracy: 0.5254237288135594\n",
            "The predictions are: tensor([0, 0, 0, 0, 0, 0, 0, 0, 0, 0])\n",
            "The labels are: tensor([0, 1, 1, 0, 0, 0, 0, 2, 0, 0])\n",
            "The predictions are: tensor([0, 0, 0, 0, 0, 0, 0, 0, 0, 0])\n",
            "The labels are: tensor([2, 0, 0, 0, 2, 0, 0, 3, 1, 0])\n",
            "The predictions are: tensor([0, 0, 0, 0, 0, 0, 0, 0, 0, 0])\n",
            "The labels are: tensor([2, 0, 2, 3, 1, 1, 0, 0, 0, 0])\n",
            "The predictions are: tensor([0, 0, 0, 0, 0, 0, 0, 0, 0, 0])\n",
            "The labels are: tensor([0, 1, 0, 0, 0, 0, 0, 2, 0, 0])\n",
            "The predictions are: tensor([0, 0, 0, 0, 0, 0, 0, 0, 0, 0])\n",
            "The labels are: tensor([0, 1, 1, 0, 0, 1, 1, 1, 0, 0])\n",
            "The predictions are: tensor([0, 0, 0, 0, 0, 0, 0, 0, 0, 0])\n",
            "The labels are: tensor([1, 1, 2, 0, 0, 0, 1, 0, 0, 1])\n",
            "Testing accuracy: 0.6\n"
          ],
          "name": "stdout"
        },
        {
          "output_type": "display_data",
          "data": {
            "image/png": "[encoded data removed]",
            "text/plain": [
              "<Figure size 432x288 with 1 Axes>"
            ]
          },
          "metadata": {
            "tags": [],
            "needs_background": "light"
          }
        }
      ]
    }
  ]
}