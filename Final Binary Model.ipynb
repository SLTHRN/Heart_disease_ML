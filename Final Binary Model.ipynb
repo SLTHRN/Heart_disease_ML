{
  "nbformat": 4,
  "nbformat_minor": 0,
  "metadata": {
    "colab": {
      "name": "Project v_1",
      "provenance": [],
      "authorship_tag": "ABX9TyNwDIJKrSRFFbdOkojAFGhX",
      "include_colab_link": true
    },
    "kernelspec": {
      "name": "python3",
      "display_name": "Python 3"
    },
    "language_info": {
      "name": "python"
    }
  },
  "cells": [
    {
      "cell_type": "markdown",
      "metadata": {
        "id": "view-in-github",
        "colab_type": "text"
      },
      "source": [
        "<a href=\"https://colab.research.google.com/github/SLTHRN/Heart_disease_ML/blob/main/Final%20Binary%20Model.ipynb\" target=\"_parent\"><img src=\"https://colab.research.google.com/assets/colab-badge.svg\" alt=\"Open In Colab\"/></a>"
      ]
    },
    {
      "cell_type": "code",
      "metadata": {
        "id": "m9c0_WM8HPWA",
        "colab": {
          "base_uri": "https://localhost:8080/"
        },
        "outputId": "92595bc6-f67c-45dc-bb8b-7dd5f4e63f3c"
      },
      "source": [
        "########################\n",
        "### IMPORT LIBRARIES\n",
        "########################\n",
        "\n",
        "import csv\n",
        "from google.colab import drive\n",
        "drive.mount('/content/drive')\n",
        "\n",
        "import torch\n",
        "import torch.nn as nn\n",
        "\n",
        "import torchvision\n",
        "from torchvision import datasets, transforms\n",
        "import torch.optim as optim\n",
        "import torch.nn.functional as F\n",
        "import matplotlib.pyplot as plt\n",
        "\n",
        "import numpy as np\n",
        "import pandas as pd\n",
        "import sklearn\n",
        "\n",
        "import time"
      ],
      "execution_count": 1,
      "outputs": [
        {
          "output_type": "stream",
          "text": [
            "Drive already mounted at /content/drive; to attempt to forcibly remount, call drive.mount(\"/content/drive\", force_remount=True).\n"
          ],
          "name": "stdout"
        }
      ]
    },
    {
      "cell_type": "code",
      "metadata": {
        "id": "4_talIgXHSsj"
      },
      "source": [
        "### IMPORTING CSV FILE FROM GOOGLE DRIVE\n",
        "\n",
        "#FILE LOCATION IN GOOGLE DRIVE\n",
        "directory = '/content/drive/MyDrive/APS360PROJECT/New data.csv' # USE WHEREVER CSV FILE IS STORED IN GOOGLE DRIVE, FIRST ROW IN CSV WILL BE USED FOR DICTIONARY\n",
        "#CSV CAN BE FOUND IN GITHUB REPOSITORY"
      ],
      "execution_count": 2,
      "outputs": []
    },
    {
      "cell_type": "code",
      "metadata": {
        "id": "5MVkjLaIg7SL"
      },
      "source": [
        "#######################\n",
        "### CLASS DEFINING AND FUNCTIONS\n",
        "#######################\n",
        "\n",
        "\n",
        "### DEFINING FULLY CONNECTED NEURAL NETWORK\n",
        "\n",
        "#DEFINING A FULLY CONNECTED MODEL, 1 HIDDEN LAYER\n",
        "class neuralNetwork(nn.Module):\n",
        "\n",
        "  def __init__(self):\n",
        "    super(neuralNetwork, self).__init__()\n",
        "    self.layer1 = nn.Linear(13,50)\n",
        "    self.layer2 = nn.Linear(50,1)\n",
        "\n",
        "  def forward(self, x):\n",
        "    activation1 = self.layer1(x)\n",
        "    activation2 = F.relu(activation1)\n",
        "    output = self.layer2(activation2)\n",
        "    return output"
      ],
      "execution_count": 3,
      "outputs": []
    },
    {
      "cell_type": "code",
      "metadata": {
        "id": "XO39mNObHWKc"
      },
      "source": [
        "### GETTING DATA FROM CSV FILE\n",
        "\n",
        "### LOADING CSV FILE FROM DIRECTORY\n",
        "def load_csv(directory):\n",
        "  file = open(directory, \"r\")\n",
        "  retrieved = csv.reader(file)\n",
        "\n",
        "  data_size = -1\n",
        "  dictionary = {}\n",
        "  data = []\n",
        "\n",
        "  for row in retrieved:\n",
        "    data_size += 1\n",
        "    if data_size == 0:\n",
        "      for i in range(len(row)):\n",
        "        dictionary[i] = row[i]\n",
        "    else:\n",
        "      data.append(row)\n",
        "  del dictionary[len(dictionary)-1]\n",
        "  return data_size, data, dictionary\n",
        "\n",
        "########################################\n",
        "\n",
        "### DATA STRING TO FLOAT\n",
        "def str_to_flt(data):\n",
        "  fail_count = 0\n",
        "\n",
        "  for i in range(len(data)):\n",
        "    row = data[i]\n",
        "    new_row = []\n",
        "    for j in range(len(row)):\n",
        "      if row[j].isnumeric():\n",
        "        new_row.append(float(row[j]))\n",
        "      else:\n",
        "        test = row[j].split('.')\n",
        "        if len(test) == 2 and (test[0].isnumeric() and test[1].isnumeric()):\n",
        "          new_row.append(float(row[j]))\n",
        "        else:\n",
        "          fail_count += 1\n",
        "          print('!!!!!! Not Numeric, count:' + str(fail_count))\n",
        "          new_row.append(row[j])\n",
        "    data[i] = new_row\n",
        "  return data"
      ],
      "execution_count": 71,
      "outputs": []
    },
    {
      "cell_type": "code",
      "metadata": {
        "id": "7qGHyD6oHZ9J"
      },
      "source": [
        "### SEPERATING LABELS FROM DATA FOR BINARY MODEL\n",
        "\n",
        "### GET LABELS\n",
        "def seperate_labels(data):\n",
        "  labels = []\n",
        "\n",
        "  for row in data:\n",
        "    labels.append(int(row[-1]))\n",
        "    del row[-1]\n",
        "\n",
        "  labels = get_binary(labels)\n",
        "\n",
        "  return data, labels\n",
        "\n",
        "###########################################\n",
        "\n",
        "### TURN LABELS INTO BINARY CLASSES\n",
        "def get_binary(labels):\n",
        "  new_labels = []\n",
        "  for label in labels:\n",
        "    if label == 0.0:\n",
        "      new_labels.append(0.0)\n",
        "    else:\n",
        "      new_labels.append(1.0)\n",
        "  return new_labels"
      ],
      "execution_count": 5,
      "outputs": []
    },
    {
      "cell_type": "code",
      "metadata": {
        "id": "kuhfNhsUHcd2"
      },
      "source": [
        "### HOW DATA IS SAMPLED AND LOADED\n",
        "\n",
        "### GENERATING SAMPLERS FOR DATALOADERS\n",
        "def get_samplers(data_size):\n",
        "  torch.manual_seed(0)\n",
        "  index = torch.randperm(data_size)\n",
        "  end_training = int(len(index)*0.6) # Defining index for last data sample in training data\n",
        "  end_validation = end_training + int(len(index)*0.2) # Defining index for last data sample in validation set\n",
        "  training_sampler, validation_sampler, testing_sampler = index[:end_training], index[end_training:end_validation], index[end_validation:]\n",
        "\n",
        "  return training_sampler, validation_sampler, testing_sampler # RETURNS SAMPLERS FOR EACH DATASET, SAME SAMPLER IS USED FOR DATA AND LABEL LOADERS FOR EACH DATASET\n",
        "\n",
        "#############################################\n",
        "\n",
        "### GENERATING DATA LOADERS\n",
        "def get_loaders(data, sampler, batch_size = 64):\n",
        "  dataset = torch.tensor(data)\n",
        "\n",
        "  loader = torch.utils.data.DataLoader(dataset=dataset, batch_size=batch_size, sampler=sampler)\n",
        "  \n",
        "  return loader #RETURNS LOADER FROM GIVEN SAMPLER, MUST BE DONE SEPERATELY FOR EACH DATASET, FOR BOTH DATA AND LABELS"
      ],
      "execution_count": 6,
      "outputs": []
    },
    {
      "cell_type": "code",
      "metadata": {
        "id": "Y5xOgTHhHglf"
      },
      "source": [
        "### TRAINING AND PERFORMANCE OF MODEL\n",
        "\n",
        "### MODEL TRAINING\n",
        "def training(t_loader, t_label_loader, v_loader, v_label_loader, epochs=10, learning_rate=0.001):\n",
        "  n = 0\n",
        "  iters, losses, training_accuracy, validation_accuracy = [], [], [], []\n",
        "\n",
        "  model = neuralNetwork()\n",
        "  criterion = nn.BCEWithLogitsLoss()\n",
        "  optimizer = torch.optim.Adam(model.parameters(), lr=learning_rate)\n",
        "\n",
        "  print(\"Starting training\")\n",
        "  start_time = time.time()\n",
        "  for epoch in range(epochs):\n",
        "    for (data, label) in zip(t_loader, t_label_loader):\n",
        "      output = model(data)\n",
        "      loss = criterion(output.squeeze(), label)\n",
        "      loss.backward()\n",
        "      optimizer.step()\n",
        "      optimizer.zero_grad()\n",
        "\n",
        "      iters.append(n)\n",
        "      losses.append(float(loss)/batch_size)\n",
        "      training_accuracy.append(get_accuracy(model, t_loader, t_label_loader))\n",
        "      validation_accuracy.append(get_accuracy(model, v_loader, v_label_loader))\n",
        "      n += 1\n",
        "\n",
        "  end_time = time.time()\n",
        "  print(\"Done training, time elapsed: {:.2f} seconds\\n\".format(end_time-start_time)) #TIME TAKEN TO TRAIN\n",
        "  print(\"Number of iterations: {}\".format(iters[-1]+1)) #EPOCHS AND ITERATIONS\n",
        "  print(\"Number of epochs: {}\".format(epochs))\n",
        "  \n",
        "  plt.title(\"Training\") # GET TRAINING CURVES FOR LOSSES\n",
        "  plt.plot(iters, losses, label=\"Train\")\n",
        "  plt.xlabel(\"Iterations\")\n",
        "  plt.ylabel(\"Loss\")\n",
        "  plt.show()\n",
        "\n",
        "  plt.title(\"Accuracies\") # GET TRAINING CURVES FOR ACCURACY\n",
        "  plt.plot(iters, validation_accuracy, label = \"Validation\")\n",
        "  plt.plot(iters, training_accuracy, label = \"Training\")\n",
        "  plt.xlabel(\"Iterations\")\n",
        "  plt.ylabel(\"Accuracy\")\n",
        "  plt.show\n",
        "\n",
        "  print(\"Final loss: {}\".format(losses[-1])) # GET FINAL METRICS FOR PERFORMANCE\n",
        "  print(\"Final training accuracy: {}\".format(training_accuracy[-1]))\n",
        "  print(\"Final validation accuracy: {}\".format(validation_accuracy[-1]))\n",
        "  \n",
        "  return model # RETURNS FULLY TRAINED MODEL\n",
        "\n",
        "################################################\n",
        "\n",
        "### CALCULATE ACCURACY OF MODEL\n",
        "def get_accuracy(model, d_loader, l_loader, show_data = False, show_pred = True): #TAKES IN BOTH DATALOADER AND ASSOCIATED LABEL LOADER\n",
        "  correct = 0\n",
        "  total = 0\n",
        "\n",
        "  for (data, label) in zip(d_loader, l_loader):\n",
        "    output = model(data)\n",
        "    pred_list = []\n",
        "    if show_data and not show_pred:\n",
        "      print(\"The labels are: {}\".format(label))\n",
        "      print(\"The outputs are: {}\".format(output))\n",
        "    for i in range(len(output)):\n",
        "      total += 1.0\n",
        "      if output[i] >= 0.5:\n",
        "        pred = 1.0\n",
        "      else:\n",
        "        pred = 0.0\n",
        "      if pred == label[i]:\n",
        "        correct += 1.0\n",
        "      pred_list.append(pred)\n",
        "    if show_data and show_pred:\n",
        "      print(\"The labels are: {}\".format(label))\n",
        "      print(\"The predictions are: {}\".format(pred_list))\n",
        "  return correct/total #RETURNS ACCURACY OF MODEL ON GIVEN DATASET"
      ],
      "execution_count": 7,
      "outputs": []
    },
    {
      "cell_type": "code",
      "metadata": {
        "id": "q0pfSwxyKxr7"
      },
      "source": [
        "### FOR GETTING SAMPLES OF INPUTS AND OUTPUTS\n",
        "\n",
        "### GET BALANCE OF DATA\n",
        "def data_balance(label_loader, training = False, validation = False, testing = False, get_total = False): #PRINTS PORTION OF DATASET WITH A GIVEN TARGET LABEL\n",
        "  num_zeros, num_ones = 0.0, 0.0\n",
        "  for batch in label_loader:\n",
        "    for element in batch:\n",
        "      if element == 0.0:\n",
        "        num_zeros += 1.0\n",
        "      elif element == 1.0:\n",
        "        num_ones += 1.0\n",
        "      else:\n",
        "        print(\"Error occured, incorrect label\")\n",
        "  if training:\n",
        "    data = \"training\"\n",
        "  elif validation:\n",
        "    data = \"validation\"\n",
        "  elif testing:\n",
        "    data = \"testing\"\n",
        "  else:\n",
        "    data = \"misc.\"\n",
        "  print(\"Percentage of {} data with label 1: {}%\".format(data, 100*num_ones/(num_ones+num_zeros)))\n",
        "  if get_total:\n",
        "    print(\"Size of {} set: {}\".format(data, (num_ones+num_zeros)))\n",
        "\n",
        "####################################################\n",
        "\n",
        "### ANALYSE THE BATCHES IN A LOADER\n",
        "def batchwise_balance(label_loader, training = False, validation = False, testing = False, get_total = False): #SAME AS data_balance() BUT GIVES PORTIONS FOR EACH BATCH IN A DATASET (FOR COMPARISON WITH TRAINING CURVES)\n",
        "  batchwise_balance = []\n",
        "  for batch in label_loader:\n",
        "    num_zeros, num_ones = 0.0, 0.0\n",
        "    for element in batch:\n",
        "      if element == 0.0:\n",
        "        num_zeros += 1.0\n",
        "      elif element == 1.0:\n",
        "        num_ones += 1.0\n",
        "      else:\n",
        "        print(\"Error occured, incorrect label\")\n",
        "    batchwise_balance.append(num_ones/(num_ones+num_zeros))\n",
        "  if training:\n",
        "    data = \"training\"\n",
        "  elif validation:\n",
        "    data = \"training\"\n",
        "  elif testing:\n",
        "    data = \"testing\"\n",
        "  else:\n",
        "    data = \"misc.\"\n",
        "  print(\"Results for {} data:\".format(data))\n",
        "  for i in range(len(batchwise_balance)):\n",
        "    print(\"Percenatge of batch {} with label 1: {}%\".format(i+1, (100*batchwise_balance[i])))\n",
        "  if get_total:\n",
        "    if training:\n",
        "      data_balance(label_loader, get_total = True, training = True)\n",
        "      print(\"Number of iterations in an epoch: {}\".format(len(batchwise_balance)))\n",
        "    elif validation:\n",
        "      data_balance(label_loader, get_total = True, validation = True)\n",
        "    elif testing:\n",
        "      data_balance(label_loader, get_total = True, testing = True)\n",
        "    else:\n",
        "      data_balance(label_loader, get_total = True)\n",
        "      print(\"Number of iterations in an epoch: {}\".format(len(batchwise_balance)))\n",
        "\n",
        "###########################################\n",
        "\n",
        "### FOR GETTING SAMPLE RESULTS\n",
        "def get_sample_results(model, loader, label_loader, full_input = False, random_sample = True, num_to_display = 5, display_outputs = False, seed = 5): #RANDOMLY PICKS A GIVEN EXAMPLE OF MODEL PREDICTIONS\n",
        "  if random_sample and not full_input:\n",
        "    length = 0\n",
        "    for batch in label_loader:\n",
        "      length += len(batch)\n",
        "    torch.manual_seed(seed)\n",
        "    index = torch.randperm(length)\n",
        "  inputs, outputs, targets, predictions = [], [], [], []\n",
        "  for (data_batch, label_batch) in zip(loader, label_loader):\n",
        "    for (data, label) in zip(data_batch, label_batch):\n",
        "      inputs.append(data)\n",
        "      outputs.append(model(data))\n",
        "      targets.append(label)\n",
        "  outputs = torch.tensor(outputs)\n",
        "  targets = torch.tensor(targets)\n",
        "  predictions = torch.where(outputs>=0.5, 1, 0)\n",
        "\n",
        "  print_count = 0\n",
        "  for i in index:\n",
        "    print_count += 1\n",
        "    print(\"Sample {} ...............\".format(print_count))\n",
        "    print(\"Inputs: \")\n",
        "    print(inputs[i])\n",
        "    print(\"Model predictions: \")\n",
        "    print(predictions[i])\n",
        "    print(\"Actual label: \")\n",
        "    print([targets[i]])\n",
        "    if display_outputs:\n",
        "      print(\"Model outputs\")\n",
        "      print(outputs[i])\n",
        "    print(\"\\n\")\n",
        "    \n",
        "    if (print_count == num_to_display) and not full_input:\n",
        "      print(\"Done printing samples\\n\")\n",
        "      return\n",
        "    elif full_input and print_count == length:\n",
        "      print(\"Done printing samples\\n\")\n",
        "      return\n",
        "\n",
        "#######################################\n",
        "\n",
        "### DISPLAY DATA LOADER\n",
        "def display_loader(loader): #DISPLAYS ALL DATA IN A GIVEN LOADER\n",
        "  for stuff in loader:\n",
        "    print(stuff)"
      ],
      "execution_count": 8,
      "outputs": []
    },
    {
      "cell_type": "code",
      "metadata": {
        "id": "aPFWgCC30XSi"
      },
      "source": [
        "### GET STATISTICS ON INPUTS AND OUTPUTS OF MODEL\n",
        "\n",
        "### GET AVERAGE INPUT FROM A DATA SET\n",
        "def get_avg_inputs(loader, dictionary): #GIVES AVERAGE OF EACH INPUT FIELD IN ANY GIVEN DATASET FOR PERFORMANCE COMPARISONS\n",
        "  fields = []\n",
        "  for data_batch in loader:\n",
        "    for data in data_batch:\n",
        "      row = []\n",
        "      for field in data:\n",
        "        row.append(field)\n",
        "      fields.append(row)\n",
        "  sum = fields[0]\n",
        "  for i in range(len(sum)):\n",
        "    sum[i] = 0.0\n",
        "  for row in fields:\n",
        "    for i in range(len(row)):\n",
        "      sum[i] += row[i]\n",
        "  for i in range(len(sum)):\n",
        "    print(\"Average {}: {}\".format(dictionary[i],(sum[i]/len(fields))))\n",
        "\n",
        "###########################################\n",
        "\n",
        "### Get PORTION WITH A GIVEN PREDICTION\n",
        "def print_portion_output(model, loader, label_loader, get_ones = True, get_zeros = True, get_label = False): #GIVES PORTIONS OF DATASET WHERE MODEL PREDICTS A GIVEN LABEL\n",
        "  pred_zeros, pred_ones, label_zeros, label_ones = 0.0, 0.0, 0.0, 0.0\n",
        "  for (data_batch, label_batch) in zip(loader, label_loader):\n",
        "    for (data, label) in zip(data_batch, label_batch):\n",
        "      output = model(data)\n",
        "      if output >= 0.5:\n",
        "        pred_ones += 1.0\n",
        "      else:\n",
        "        pred_zeros += 1.0\n",
        "      if label == 1.0:\n",
        "        label_ones += 1.0\n",
        "      elif label == 0.0:\n",
        "        label_zeros += 0.0\n",
        "  if get_zeros:\n",
        "    print(\"Predictions of 0: {}\".format(pred_zeros/(pred_zeros+pred_ones)))\n",
        "  if get_ones:\n",
        "    print(\"Predictions of 1: {}\".format(pred_ones/(pred_zeros+pred_ones)))\n",
        "  if get_zeros and get_label:\n",
        "    print(\"Labels of 0: {}\".format(label_zeros/(label_zeros+label_ones)))\n",
        "  if get_ones and get_label:\n",
        "    print(\"Labels of 1: {}\".format(label_ones/(label_zeros+label_ones)))\n",
        "\n",
        "################################################\n",
        "\n",
        "### GET PORTION CORRECTLY LABELLED\n",
        "def corr_labelled(model, loader, label_loader, get_ones = True, get_zeros = True, show = False): #GIVES PORTIONS OF DATASET WHERE A GIVEN LABEL IS CORRECTLY PREDICTED\n",
        "  num_ones, num_zeros, corr_ones, corr_zeros = 0.0, 0.0, 0.0, 0.0 \n",
        "  for (data_batch, label_batch) in zip(loader, label_loader):\n",
        "    for (data, label) in zip(data_batch, label_batch):\n",
        "      output = model(data)\n",
        "      if show:\n",
        "        print(\"{} {}\".format(output, label))\n",
        "      if output >= 0.5 and label == 1.0:\n",
        "        num_ones += 1.0\n",
        "        corr_ones += 1.0\n",
        "      elif output < 0.5 and label == 0.0:\n",
        "        num_zeros += 1.0\n",
        "        corr_zeros += 1.0\n",
        "      elif label == 1.0:\n",
        "        num_ones += 1.0\n",
        "      elif label == 0.0:\n",
        "        num_zeros += 1.0\n",
        "      else:\n",
        "        print(\"Some error occured in corr_labelled\")\n",
        "  if get_ones:\n",
        "    print(\"Portion of ones correctly labelled: {}\".format(corr_ones/num_ones))\n",
        "  if get_zeros:\n",
        "    print(\"Portion of zeros correctly labelled: {}\".format(corr_zeros/num_zeros))\n",
        "\n",
        "###########################################################\n",
        "\n",
        "### PRINT AVERAGE PREDICTION AND LABEL OVER A DATA SET\n",
        "def avg_prediction(model, loader, label_loader): #GIVES AVERAGE PREDICTION FOR DATASET, FOR USE IN CONJUNCTION WITH get_avg_inputs()\n",
        "  total_pred, total_label, total = 0.0, 0.0, 0.0\n",
        "  for (data_batch, label_batch) in zip(loader, label_loader):\n",
        "    for (data, label) in zip(data_batch, label_batch):\n",
        "      output = model(data)\n",
        "      total += 1.0\n",
        "      if label == 1.0:\n",
        "        total_label += 1.0\n",
        "      if output >= 0.5:\n",
        "        total_pred += 1.0\n",
        "  print(\"Avg. prediction: {}\".format(total_pred/total))\n",
        "  print(\"Avg. label: {}\".format(total_label/total))\n",
        "\n",
        "##################################################\n",
        "\n",
        "### GET CONFUSION MATRIX OVER A DATA SET\n",
        "def get_confusion(model, loader, label_loader, as_percentage = False, as_net = True): #PRINTS CONFUSION MATRIX FOR A GIVEN DATASET, WILL PRINT SAME METRICS AS corr_labelled() IF (as_percentage = True)\n",
        "  outcomes  = {0: \"negative\", 1: \"positive\"}\n",
        "  true_pos, true_neg, false_pos, false_neg = 0.0, 0.0, 0.0, 0.0\n",
        "  for (data_batch, label_batch) in zip(loader, label_loader):\n",
        "    for (data, label) in zip(data_batch, label_batch):\n",
        "      output = model(data)\n",
        "      if output >= 0.5:\n",
        "        pred = 1.0\n",
        "      else:\n",
        "        pred = 0.0\n",
        "      if label == 1.0 and pred == 1.0:\n",
        "        true_pos += 1.0\n",
        "      elif label == 1.0 and pred == 0.0:\n",
        "        false_neg += 1.0\n",
        "      elif label == 0.0 and pred == 1.0:\n",
        "        false_pos += 1.0\n",
        "      elif label == 0.0 and pred == 0.0:\n",
        "        true_neg += 1.0\n",
        "      else:\n",
        "        print(\"An issue occured, this datapoint will not be considered\")\n",
        "  if as_percentage:\n",
        "    print(\"Positives correctly labelled: {}\".format(true_pos/(true_pos+false_neg)))\n",
        "    print(\"Negatives correctly labelled: {}\".format(true_neg/(true_neg+false_pos)))\n",
        "    print(\"Positives incorrecly labelled: {}\".format(false_neg/(true_pos+false_neg)))\n",
        "    print(\"Negatives incorrecly labelled: {}\".format(false_pos/(true_neg+false_pos)))\n",
        "    if as_net:\n",
        "      print(\"\\nTrue Positives: {}\".format(int(true_pos)))\n",
        "      print(\"True Negatives: {}\".format(int(true_neg)))\n",
        "      print(\"False Positives: {}\".format(int(false_pos)))\n",
        "      print(\"False Negatives: {}\".format(int(false_neg)))\n",
        "  else:\n",
        "    print(\"True Positives: {}\".format(int(true_pos)))\n",
        "    print(\"True Negatives: {}\".format(int(true_neg)))\n",
        "    print(\"False Positives: {}\".format(int(false_pos)))\n",
        "    print(\"False Negatives: {}\".format(int(false_neg)))\n",
        "\n",
        "#################################################\n",
        "\n",
        "### GET RANGE OF VALUES IN DATASET AND PRINT VALUES WITH FREQUENCY\n",
        "def get_range_inputs(loader, field, field_name = \"None\"):\n",
        "  val_range = [[-1,-1]]\n",
        "  for batch in loader:\n",
        "    for data in batch:\n",
        "      found = False\n",
        "      for i in range(len(val_range)):\n",
        "        if val_range[i][0] == data[field]:\n",
        "          val_range[i][1] += 1\n",
        "          found = True\n",
        "      if not found:\n",
        "        val_range.append([data[field],1])\n",
        "  del val_range[0]\n",
        "\n",
        "  count, values = [], []\n",
        "\n",
        "  for row in val_range:\n",
        "    values.append(row[0])\n",
        "    count.append(row[1])\n",
        "\n",
        "  if field_name == \"None\":\n",
        "    plt.title(\"Unamed plot\")\n",
        "    plt.plot(values, count, label = \"Number of occurances\")\n",
        "    plt.xlabel(\"Not give\")\n",
        "    plt.ylabel(\"Count\")\n",
        "    plt.show\n",
        "  else:\n",
        "    plt.title(\"Plot of {}\".format(field_name))\n",
        "    plt.bar(values, count)\n",
        "    plt.xlabel(field_name)\n",
        "    plt.ylabel(\"Count\")\n",
        "    plt.show\n",
        "    print(\"Max {}: {}\".format(field_name, max(values)))\n",
        "    print(\"Min {}: {}\".format(field_name, min(values)))"
      ],
      "execution_count": 86,
      "outputs": []
    },
    {
      "cell_type": "code",
      "metadata": {
        "id": "QVQMY0U4kXZW"
      },
      "source": [
        "### GET NEW DATASET TO ANALYSE DATA\n",
        "# !!! NOTE THAT ONLY ONE DATA SAMPLE IS VIABLE WHICH IS NOT INCLUDED IN THE CSV PROVIDED IN GITHUB REPOSITORY\n",
        "def new_data_test(new_directory, model, batch_size = 1, show_samples = True, show_all = True, sample_count = 1, show_accuracy = False): ### DOES NOT NEED FIRST ROW TO HAVE COLUMN TITLES, WILL PRINT DATA INPUTS, AND PREDICTIONS FROM MODEL, SIMILARLY TO get_sample_results()\n",
        "  file = open(new_directory, \"r\")\n",
        "  retrieved = csv.reader(file)\n",
        "\n",
        "  data = []\n",
        "\n",
        "  for row in retrieved:\n",
        "    data.append(row)\n",
        "  to_del = []\n",
        "  for i in range(len(data)):\n",
        "    row  = data[i]\n",
        "    new_row = []\n",
        "    for j in range(len(row)):\n",
        "      if row[j].isnumeric():\n",
        "        new_row.append(float(row[j]))\n",
        "      else:\n",
        "        test = row[j].split('.')\n",
        "        if len(test) == 2 and (test[0].isnumeric() and test[1].isnumeric()):\n",
        "          new_row.append(float(row[j]))\n",
        "        else:\n",
        "          print(\"Row {} is not fully numeric\".format(i))\n",
        "          print(\"Values not included: {}\\n\".format(row))\n",
        "          to_del.append(i)\n",
        "          break\n",
        "    data[i] = new_row\n",
        "\n",
        "  for i in to_del:\n",
        "    del data[i]\n",
        "  \n",
        "  data, labels = seperate_labels(data)\n",
        "\n",
        "  dataset = torch.tensor(data)\n",
        "  new_loader = torch.utils.data.DataLoader(dataset = dataset, batch_size = batch_size)\n",
        "\n",
        "  labelset = torch.tensor(labels)\n",
        "  new_label_loader = torch.utils.data.DataLoader(dataset = labelset, batch_size = batch_size)\n",
        "\n",
        "  inputs, outputs, targets = [], [], []\n",
        "  for (data, label) in zip(new_loader, new_label_loader):\n",
        "    inputs.append(data)\n",
        "    outputs.append(model(data))\n",
        "    targets.append(label)\n",
        "  outputs = torch.tensor(outputs)\n",
        "  targets = torch.tensor(targets)\n",
        "  predictions = torch.where(outputs>=0.5, 1.0, 0.0)\n",
        "\n",
        "  if show_all:\n",
        "    sample_count = len(inputs)\n",
        "  counter = 0\n",
        "  correct = 0.0\n",
        "  if show_samples:\n",
        "    for (input, target, prediction) in zip(inputs, targets, predictions):\n",
        "      if target == prediction:\n",
        "        correct += 1.0\n",
        "      counter += 1\n",
        "      print(\"Model inputs: {}\".format(input))\n",
        "      print(\"Target labels: {}\".format(target))\n",
        "      print(\"Predicted labels: {}\\n\".format(prediction))\n",
        "      if counter == sample_count:\n",
        "        break\n",
        "  \n",
        "  if show_accuracy:\n",
        "    print(\"Accuracy on this dataset: {}\".format(correct/len(targets)))\n",
        "\n",
        "  return"
      ],
      "execution_count": 10,
      "outputs": []
    },
    {
      "cell_type": "code",
      "metadata": {
        "colab": {
          "base_uri": "https://localhost:8080/",
          "height": 845
        },
        "id": "EMrAox8UHidh",
        "outputId": "24b0a2e4-dcf5-4e3e-d11e-e306fe281b80"
      },
      "source": [
        "############################\n",
        "### RUNNING THE CODE\n",
        "############################\n",
        "\n",
        "\n",
        "#LOADING CSV AND GETTING DATA SAMPLERS\n",
        "data_size, data, dictionary = load_csv(directory)\n",
        "data = str_to_flt(data)\n",
        "data, labels = seperate_labels(data)\n",
        "training_sampler, validation_sampler, testing_sampler = get_samplers(data_size)\n",
        "\n",
        "#GETTING DATA LOADERS\n",
        "batch_size = 30\n",
        "training_loader = get_loaders(data, training_sampler, batch_size)\n",
        "training_label_loader = get_loaders(labels, training_sampler, batch_size)\n",
        "validation_loader = get_loaders(data, validation_sampler, batch_size)\n",
        "validation_label_loader = get_loaders(labels, validation_sampler, batch_size)\n",
        "testing_loader = get_loaders(data, testing_sampler, batch_size)\n",
        "testing_label_loader = get_loaders(labels, testing_sampler, batch_size)\n",
        "\n",
        "#GETTING PORTIONS OF EACH DATASET WITH GIVEN LABEL\n",
        "data_balance(training_label_loader, training = True, get_total = True) #ALSO GIVES SIZE OF THIS DATASET\n",
        "data_balance(validation_label_loader, validation = True)\n",
        "data_balance(testing_label_loader, testing = True)\n",
        "print(\"\\n\")\n",
        "\n",
        "#TRAINING MODEL (THIS IS THE OPTIMIZED VERSION)\n",
        "model = training(training_loader, training_label_loader, validation_loader, validation_label_loader, epochs = 1000, learning_rate = 0.001)"
      ],
      "execution_count": 12,
      "outputs": [
        {
          "output_type": "stream",
          "text": [
            "['Age', 'Sex', 'Chest_Pain', 'Resting_Blood_Pressure', 'Colestrol', 'Fasting_Blood_Sugar', 'Rest_ECG', 'MAX_Heart_Rate', 'Exercised_Induced_Angina', 'ST_Depression', 'Slope', 'Major_Vessels', 'Thalessemia', 'Target']\n",
            "14\n",
            "Percentage of training data with label 1: 47.752808988764045%\n",
            "Size of training set: 178.0\n",
            "Percentage of validation data with label 1: 47.45762711864407%\n",
            "Percentage of testing data with label 1: 40.0%\n",
            "\n",
            "\n",
            "Starting training\n",
            "Done training, time elapsed: 68.47 seconds\n",
            "\n",
            "Number of iterations: 6000\n",
            "Number of epochs: 1000\n"
          ],
          "name": "stdout"
        },
        {
          "output_type": "display_data",
          "data": {
            "image/png": "[encoded data removed]",
            "text/plain": [
              "<Figure size 432x288 with 1 Axes>"
            ]
          },
          "metadata": {
            "tags": [],
            "needs_background": "light"
          }
        },
        {
          "output_type": "stream",
          "text": [
            "Final loss: 0.009299684564272563\n",
            "Final training accuracy: 0.9157303370786517\n",
            "Final validation accuracy: 0.9152542372881356\n"
          ],
          "name": "stdout"
        },
        {
          "output_type": "display_data",
          "data": {
            "image/png": "[encoded data removed]",
            "text/plain": [
              "<Figure size 432x288 with 1 Axes>"
            ]
          },
          "metadata": {
            "tags": [],
            "needs_background": "light"
          }
        }
      ]
    },
    {
      "cell_type": "code",
      "metadata": {
        "colab": {
          "base_uri": "https://localhost:8080/"
        },
        "id": "JUBVzPSc80Yb",
        "outputId": "9392e0b6-c67f-49a0-cb2e-a4ea126744ff"
      },
      "source": [
        "#PRINT FINAL PERFORMANCE OF MODEL ON GIVEN DATASETS\n",
        "print(\"Training accuracy: {}\".format(get_accuracy(model, training_loader, training_label_loader, show_data = False))) #ALREADY GIVEN BY training() AS: Final training accuracy\n",
        "print(\"Validation accuracy: {}\".format(get_accuracy(model, validation_loader, validation_label_loader, show_data = False))) #ALREADY GIVEN BY training() AS: Final validation accuracy\n",
        "print(\"Testing accuracy: {}\".format(get_accuracy(model, testing_loader, testing_label_loader, show_data = False))) #NOT GIVEN BY training()\n",
        "print(\"\\n\")\n",
        "\n",
        "#PRINT PORTIONS WITH GIVEN PREDICTION\n",
        "print(\"For testing dataset, predictions over entire dataset comprised of:\")\n",
        "print_portion_output(model, testing_loader, testing_label_loader)\n",
        "print(\"\\n\")\n",
        "\n",
        "#GET CONFUSION MATRIX VALUES OF MODEL\n",
        "print(\"Confusion matrix values:\")\n",
        "get_confusion(model, testing_loader, testing_label_loader, as_percentage = True)\n",
        "print(\"\\n\")\n",
        "\n",
        "#GET SAMPLE OUTPUTS\n",
        "print(\"Sample results:\")\n",
        "get_sample_results(model, testing_loader, testing_label_loader)"
      ],
      "execution_count": 13,
      "outputs": [
        {
          "output_type": "stream",
          "text": [
            "Training accuracy: 0.9157303370786517\n",
            "Validation accuracy: 0.9152542372881356\n",
            "Testing accuracy: 0.75\n",
            "\n",
            "\n",
            "For testing dataset, predictions over entire dataset comprised of:\n",
            "Predictions of 0: 0.6833333333333333\n",
            "Predictions of 1: 0.31666666666666665\n",
            "\n",
            "\n",
            "Confusion matrix values:\n",
            "Positives correctly labelled: 0.5833333333333334\n",
            "Negatives correctly labelled: 0.8611111111111112\n",
            "Positives incorrecly labelled: 0.4166666666666667\n",
            "Negatives incorrecly labelled: 0.1388888888888889\n",
            "\n",
            "True Positives: 14\n",
            "True Negatives: 31\n",
            "False Positives: 5\n",
            "False Negatives: 10\n",
            "\n",
            "\n",
            "Sample results:\n",
            "Sample 1 ...............\n",
            "Inputs: \n",
            "tensor([ 59.,   1.,   2., 140., 221.,   0.,   0., 164.,   1.,   0.,   1.,   0.,\n",
            "          3.])\n",
            "Model predictions: \n",
            "tensor(0)\n",
            "Actual label: \n",
            "[tensor(0.)]\n",
            "\n",
            "\n",
            "Sample 2 ...............\n",
            "Inputs: \n",
            "tensor([6.6000e+01, 1.0000e+00, 4.0000e+00, 1.1200e+02, 2.1200e+02, 0.0000e+00,\n",
            "        2.0000e+00, 1.3200e+02, 1.0000e+00, 1.0000e-01, 1.0000e+00, 1.0000e+00,\n",
            "        3.0000e+00])\n",
            "Model predictions: \n",
            "tensor(0)\n",
            "Actual label: \n",
            "[tensor(1.)]\n",
            "\n",
            "\n",
            "Sample 3 ...............\n",
            "Inputs: \n",
            "tensor([ 54.0000,   1.0000,   4.0000, 110.0000, 239.0000,   0.0000,   0.0000,\n",
            "        126.0000,   1.0000,   2.8000,   2.0000,   1.0000,   7.0000])\n",
            "Model predictions: \n",
            "tensor(1)\n",
            "Actual label: \n",
            "[tensor(1.)]\n",
            "\n",
            "\n",
            "Sample 4 ...............\n",
            "Inputs: \n",
            "tensor([ 42.,   1.,   4., 140., 226.,   0.,   0., 178.,   0.,   0.,   1.,   0.,\n",
            "          3.])\n",
            "Model predictions: \n",
            "tensor(0)\n",
            "Actual label: \n",
            "[tensor(0.)]\n",
            "\n",
            "\n",
            "Sample 5 ...............\n",
            "Inputs: \n",
            "tensor([ 57.0000,   1.0000,   3.0000, 128.0000, 229.0000,   0.0000,   2.0000,\n",
            "        150.0000,   0.0000,   0.4000,   2.0000,   1.0000,   7.0000])\n",
            "Model predictions: \n",
            "tensor(1)\n",
            "Actual label: \n",
            "[tensor(1.)]\n",
            "\n",
            "\n",
            "Done printing samples\n",
            "\n"
          ],
          "name": "stdout"
        }
      ]
    },
    {
      "cell_type": "code",
      "metadata": {
        "colab": {
          "base_uri": "https://localhost:8080/"
        },
        "id": "jv2FcoQmrEWj",
        "outputId": "7cee6911-a011-4a39-9afa-cdf9159bfb23"
      },
      "source": [
        "# TESTING ON ONLY EXTRA DATA WE COULD GATHER\n",
        "new_data_test(\"/content/drive/MyDrive/VA.csv\", model = model) ### THIS IS WHERE I SAVED MY NEW DATA, MINE ONLY CONTAINS ONE POINT"
      ],
      "execution_count": 14,
      "outputs": [
        {
          "output_type": "stream",
          "text": [
            "Row 0 is not fully numeric\n",
            "Values not included: ['Column1', 'Column2', 'Column3', 'Column4', 'Column5', 'Column6', 'Column7', 'Column8', 'Column9', 'Column10', 'Column11', 'Column12', 'Column13', 'Column14']\n",
            "\n",
            "Model inputs: tensor([[ 56.0000,   1.0000,   4.0000, 120.0000, 100.0000,   0.0000,   0.0000,\n",
            "         120.0000,   1.0000,   1.5000,   2.0000,   0.0000,   7.0000]])\n",
            "Target labels: 1.0\n",
            "Predicted labels: 0.0\n",
            "\n"
          ],
          "name": "stdout"
        }
      ]
    },
    {
      "cell_type": "code",
      "metadata": {
        "id": "YrT4uRySFNxY",
        "outputId": "46f901a9-234b-4c96-8f2b-43726db1e0e9",
        "colab": {
          "base_uri": "https://localhost:8080/",
          "height": 330
        }
      },
      "source": [
        "get_range_inputs(testing_loader, 8, dictionary[8])"
      ],
      "execution_count": 103,
      "outputs": [
        {
          "output_type": "stream",
          "text": [
            "Max Exercised_Induced_Angina: 1.0\n",
            "Min Exercised_Induced_Angina: 0.0\n"
          ],
          "name": "stdout"
        },
        {
          "output_type": "display_data",
          "data": {
            "image/png": "[encoded data removed]",
            "text/plain": [
              "<Figure size 432x288 with 1 Axes>"
            ]
          },
          "metadata": {
            "tags": [],
            "needs_background": "light"
          }
        }
      ]
    },
    {
      "cell_type": "code",
      "metadata": {
        "id": "WSQUi-XSHUzw",
        "outputId": "e83022d8-3ccc-4971-a01b-66473459d3cf",
        "colab": {
          "base_uri": "https://localhost:8080/",
          "height": 330
        }
      },
      "source": [
        "get_range_inputs(training_loader, 8, dictionary[8])"
      ],
      "execution_count": 118,
      "outputs": [
        {
          "output_type": "stream",
          "text": [
            "Max Exercised_Induced_Angina: 1.0\n",
            "Min Exercised_Induced_Angina: 0.0\n"
          ],
          "name": "stdout"
        },
        {
          "output_type": "display_data",
          "data": {
            "image/png": "[encoded data removed]",
            "text/plain": [
              "<Figure size 432x288 with 1 Axes>"
            ]
          },
          "metadata": {
            "tags": [],
            "needs_background": "light"
          }
        }
      ]
    },
    {
      "cell_type": "code",
      "metadata": {
        "id": "IeDnaADnHYlh",
        "outputId": "8f91fc41-e93b-46c2-dafa-697f673a5323",
        "colab": {
          "base_uri": "https://localhost:8080/",
          "height": 330
        }
      },
      "source": [
        "get_range_inputs(validation_loader, 8, dictionary[8])"
      ],
      "execution_count": 119,
      "outputs": [
        {
          "output_type": "stream",
          "text": [
            "Max Exercised_Induced_Angina: 1.0\n",
            "Min Exercised_Induced_Angina: 0.0\n"
          ],
          "name": "stdout"
        },
        {
          "output_type": "display_data",
          "data": {
            "image/png": "[encoded data removed]",
            "text/plain": [
              "<Figure size 432x288 with 1 Axes>"
            ]
          },
          "metadata": {
            "tags": [],
            "needs_background": "light"
          }
        }
      ]
    }
  ]
}