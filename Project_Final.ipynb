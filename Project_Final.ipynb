{
  "nbformat": 4,
  "nbformat_minor": 0,
  "metadata": {
    "colab": {
      "name": "Project v_1",
      "provenance": [],
      "authorship_tag": "ABX9TyNIduwumjKq6jkvCjGvAQIn",
      "include_colab_link": true
    },
    "kernelspec": {
      "name": "python3",
      "display_name": "Python 3"
    },
    "language_info": {
      "name": "python"
    }
  },
  "cells": [
    {
      "cell_type": "markdown",
      "metadata": {
        "id": "view-in-github",
        "colab_type": "text"
      },
      "source": [
        "<a href=\"https://colab.research.google.com/github/SLTHRN/Heart_disease_ML/blob/main/Project_Final.ipynb\" target=\"_parent\"><img src=\"https://colab.research.google.com/assets/colab-badge.svg\" alt=\"Open In Colab\"/></a>"
      ]
    },
    {
      "cell_type": "code",
      "metadata": {
        "id": "m9c0_WM8HPWA"
      },
      "source": [
        "### IMPORT LIBRARIES\n",
        "\n",
        "import torch\n",
        "import torch.nn as nn\n",
        "from torch.utils.data.sampler import SubsetRandomSampler\n",
        "\n",
        "import torchvision\n",
        "from torchvision import datasets, transforms\n",
        "import torch.optim as optim\n",
        "import torch.nn.functional as F\n",
        "import matplotlib.pyplot as plt\n",
        "\n",
        "import numpy as np\n",
        "import pandas as pd\n",
        "import sklearn\n",
        "\n",
        "import time"
      ],
      "execution_count": 1,
      "outputs": []
    },
    {
      "cell_type": "code",
      "metadata": {
        "colab": {
          "base_uri": "https://localhost:8080/"
        },
        "id": "4_talIgXHSsj",
        "outputId": "e01f2e5c-c730-4785-82ed-ab881a79bb4f"
      },
      "source": [
        "### IMPORTING CSV FILE FROM GOOGLE DRIVE\n",
        "\n",
        "import csv\n",
        "from google.colab import drive\n",
        "drive.mount('/content/drive')\n",
        "\n",
        "#FILE LOCATION IN GOOGLE DRIVE\n",
        "directory = '/content/drive/MyDrive/APS360PROJECT/New data.csv'"
      ],
      "execution_count": 2,
      "outputs": [
        {
          "output_type": "stream",
          "text": [
            "Drive already mounted at /content/drive; to attempt to forcibly remount, call drive.mount(\"/content/drive\", force_remount=True).\n"
          ],
          "name": "stdout"
        }
      ]
    },
    {
      "cell_type": "code",
      "metadata": {
        "id": "5MVkjLaIg7SL"
      },
      "source": [
        "### DEFINING FULLY CONNECTED NEURAL NETWORK\n",
        "\n",
        "import torch\n",
        "import torch.nn as nn\n",
        "import torch.nn.functional as F\n",
        "\n",
        "#DEFINING A FULLY CONNECTED MODEL, 2 HIDDEN LAYERS\n",
        "class neuralNetwork3(nn.Module):\n",
        "\n",
        "  def __init__(self):\n",
        "    super(neuralNetwork3, self).__init__()\n",
        "    self.layer1 = nn.Linear(13,35)\n",
        "    self.layer2 = nn.Linear(35,50)\n",
        "    self.layer3 = nn.Linear(50,1)\n",
        "\n",
        "  def forward(self, x):\n",
        "    #x = x.squeeze()\n",
        "    activation1 = self.layer1(x)\n",
        "    activation1 = F.relu(activation1)\n",
        "    activation2 = F.relu(self.layer2(activation1))\n",
        "    output = self.layer3(activation2)\n",
        "    return output\n",
        "\n",
        "\n",
        "#DEFINING A FULLY CONNECTED MODEL, 1 HIDDEN LAYER\n",
        "class neuralNetwork2(nn.Module):\n",
        "\n",
        "  def __init__(self):\n",
        "    super(neuralNetwork2, self).__init__()\n",
        "    self.layer1 = nn.Linear(13,50)\n",
        "    self.layer2 = nn.Linear(50,1)\n",
        "\n",
        "  def forward(self, x):\n",
        "    activation1 = self.layer1(x)\n",
        "    activation2 = F.relu(activation1)\n",
        "    output = self.layer2(activation2)\n",
        "    return output"
      ],
      "execution_count": 3,
      "outputs": []
    },
    {
      "cell_type": "code",
      "metadata": {
        "id": "XO39mNObHWKc"
      },
      "source": [
        "### GETTING DATA FROM CSV FILE\n",
        "\n",
        "### LOADING CSV FILE FROM DIRECTORY\n",
        "\n",
        "def load_csv(directory):\n",
        "  file = open(directory, \"r\")\n",
        "  retrieved = csv.reader(file)\n",
        "\n",
        "  data_size = -1\n",
        "  dictionary = {}\n",
        "  data = []\n",
        "\n",
        "  for row in retrieved:\n",
        "    data_size+= 1\n",
        "    if data_size == 0:\n",
        "      for i in range(len(row)):\n",
        "        dictionary[i] = row[i]\n",
        "    else:\n",
        "      data.append(row)\n",
        "\n",
        "  return data_size, data, dictionary\n",
        "\n",
        "### DATA STRING TO FLOAT\n",
        "\n",
        "def str_to_flt(data):\n",
        "  fail_count = 0\n",
        "\n",
        "  for i in range(len(data)):\n",
        "    row = data[i]\n",
        "    new_row = []\n",
        "    for j in range(len(row)):\n",
        "      if row[j].isnumeric():\n",
        "        new_row.append(float(row[j]))\n",
        "      else:\n",
        "        test = row[j].split('.')\n",
        "        if len(test) == 2 and (test[0].isnumeric() and test[1].isnumeric()):\n",
        "          new_row.append(float(row[j]))\n",
        "        else:\n",
        "          fail_count += 1\n",
        "          print('!!!!!! Not Numeric, count:' + str(fail_count))\n",
        "          new_row.append(row[j])\n",
        "    data[i] = new_row\n",
        "  return data"
      ],
      "execution_count": 4,
      "outputs": []
    },
    {
      "cell_type": "code",
      "metadata": {
        "id": "7qGHyD6oHZ9J"
      },
      "source": [
        "### SEPERATING LABELS FROM DATA FOR BINARY MODEL\n",
        "\n",
        "### GET LABELS\n",
        "\n",
        "def seperate_labels(data):\n",
        "  labels = []\n",
        "\n",
        "  for row in data:\n",
        "    labels.append(int(row[-1]))\n",
        "    del row[-1]\n",
        "\n",
        "  labels = get_binary(labels)\n",
        "\n",
        "  return data, labels\n",
        "\n",
        "### TURN LABELS INTO BINARY CLASSES\n",
        "\n",
        "def get_binary(labels):\n",
        "  new_labels = []\n",
        "  for label in labels:\n",
        "    if label == 0.0:\n",
        "      new_labels.append(0.0)\n",
        "    else:\n",
        "      new_labels.append(1.0)\n",
        "  return new_labels"
      ],
      "execution_count": 5,
      "outputs": []
    },
    {
      "cell_type": "code",
      "metadata": {
        "id": "kuhfNhsUHcd2"
      },
      "source": [
        "### HOW DATA IS SAMPLED AND LOADED\n",
        "\n",
        "### GENERATING SAMPLERS FOR DATALOADERS\n",
        "\n",
        "def get_samplers(data_size):\n",
        "  torch.manual_seed(0)\n",
        "  index = torch.randperm(data_size)\n",
        "  end_training = int(len(index)*0.6) # Defining index for last data sample in training data\n",
        "  end_validation = end_training + int(len(index)*0.2) # Defining index for last data sample in validation set\n",
        "\n",
        "  training_sampler, validation_sampler, testing_sampler = index[:end_training], index[end_training:end_validation], index[end_validation:]\n",
        "\n",
        "  return training_sampler, validation_sampler, testing_sampler\n",
        "\n",
        "### GENERATING DATA LOADERS\n",
        "\n",
        "def get_loaders(data, sampler, batch_size = 64):\n",
        "  dataset = torch.tensor(data)\n",
        "\n",
        "  loader = torch.utils.data.DataLoader(dataset=dataset, batch_size=batch_size, sampler=sampler)\n",
        "  \n",
        "  return loader"
      ],
      "execution_count": 6,
      "outputs": []
    },
    {
      "cell_type": "code",
      "metadata": {
        "id": "Y5xOgTHhHglf"
      },
      "source": [
        "### TRAINING AND PERFORMANCE OF MODEL\n",
        "\n",
        "### MODEL TRAINING\n",
        "\n",
        "def training(t_loader, t_label_loader, v_loader, v_label_loader, epochs=10, learning_rate=0.001, one_hidden = True):\n",
        "  n = 0\n",
        "  iters, losses, training_accuracy, validation_accuracy = [], [], [], []\n",
        "\n",
        "  if one_hidden:\n",
        "    model = neuralNetwork2()\n",
        "  else:\n",
        "    model = neuralNetwork3()\n",
        "  criterion = nn.BCEWithLogitsLoss()\n",
        "  optimizer = torch.optim.Adam(model.parameters(), lr=learning_rate)\n",
        "\n",
        "  print(\"Starting training\")\n",
        "  start_time = time.time()\n",
        "  for epoch in range(epochs):\n",
        "    for (data, label) in zip(t_loader, t_label_loader):\n",
        "      output = model(data)\n",
        "      loss = criterion(output.squeeze(), label)\n",
        "      loss.backward()\n",
        "      optimizer.step()\n",
        "      optimizer.zero_grad()\n",
        "\n",
        "      iters.append(n)\n",
        "      losses.append(float(loss)/batch_size)\n",
        "      training_accuracy.append(get_accuracy(model, t_loader, t_label_loader))\n",
        "      validation_accuracy.append(get_accuracy(model, v_loader, v_label_loader))\n",
        "      n += 1\n",
        "\n",
        "  end_time = time.time()\n",
        "  print(\"Done training, time elapsed: {:.2f} seconds\".format(end_time-start_time))\n",
        "  print(\"Number of iterations: {}\".format(iters[-1]+1))\n",
        "  print(\"Number of epochs: {}\".format(epochs))\n",
        "  plt.title(\"Training\")\n",
        "  plt.plot(iters, losses, label=\"Train\")\n",
        "  plt.xlabel(\"Iterations\")\n",
        "  plt.ylabel(\"Loss\")\n",
        "  plt.show()\n",
        "\n",
        "  plt.title(\"Accuracies\")\n",
        "  plt.plot(iters, validation_accuracy, label = \"Validation\")\n",
        "  plt.plot(iters, training_accuracy, label = \"Training\")\n",
        "  plt.xlabel(\"Iterations\")\n",
        "  plt.ylabel(\"Accuracy\")\n",
        "  plt.show\n",
        "\n",
        "  print(\"Final loss: {}\".format(losses[-1]))\n",
        "  print(\"Final training accuracy: {}\".format(training_accuracy[-1]))\n",
        "  print(\"Final validation accuracy: {}\".format(validation_accuracy[-1]))\n",
        "  return model\n",
        "\n",
        "### CALCULATE ACCURACY OF MODEL\n",
        "\n",
        "def get_accuracy(model, d_loader, l_loader, show_data = False, show_pred = True):\n",
        "  correct = 0\n",
        "  total = 0\n",
        "\n",
        "  for (data, label) in zip(d_loader, l_loader):\n",
        "    output = model(data)\n",
        "    pred_list = []\n",
        "    if show_data and not show_pred:\n",
        "      print(\"The labels are: {}\".format(label))\n",
        "      print(\"The outputs are: {}\".format(output))\n",
        "    for i in range(len(output)):\n",
        "      total += 1.0\n",
        "      if output[i] >= 0.5:\n",
        "        pred = 1.0\n",
        "      else:\n",
        "        pred = 0.0\n",
        "      if pred == label[i]:\n",
        "        correct += 1.0\n",
        "      pred_list.append(pred)\n",
        "    if show_data and show_pred:\n",
        "      print(\"The labels are: {}\".format(label))\n",
        "      print(\"The predictions are: {}\".format(pred_list))\n",
        "  return correct/total"
      ],
      "execution_count": 7,
      "outputs": []
    },
    {
      "cell_type": "code",
      "metadata": {
        "id": "q0pfSwxyKxr7"
      },
      "source": [
        "### FOR GETTING SAMPLES OF INPUTS AND OUTPUTS\n",
        "\n",
        "### GET BALANCE OF DATA\n",
        "\n",
        "def data_balance(label_loader, training = False, validation = False, testing = False, get_total = False):\n",
        "  num_zeros, num_ones = 0.0, 0.0\n",
        "  for batch in label_loader:\n",
        "    for element in batch:\n",
        "      if element == 0.0:\n",
        "        num_zeros += 1.0\n",
        "      elif element == 1.0:\n",
        "        num_ones += 1.0\n",
        "      else:\n",
        "        print(\"Error occured, incorrect label\")\n",
        "  if training:\n",
        "    data = \"training\"\n",
        "  elif validation:\n",
        "    data = \"validation\"\n",
        "  elif testing:\n",
        "    data = \"testing\"\n",
        "  else:\n",
        "    data = \"misc.\"\n",
        "  print(\"Percentage of {} data with label 1: {}%\".format(data, 100*num_ones/(num_ones+num_zeros)))\n",
        "  if get_total:\n",
        "    print(\"Size of {} set: {}\".format(data, (num_ones+num_zeros)))\n",
        "\n",
        "### ANALYSE THE BATCHES IN A LOADER\n",
        "\n",
        "def batchwise_balance(label_loader, training = False, validation = False, testing = False, get_total = False):\n",
        "  batchwise_balance = []\n",
        "  for batch in label_loader:\n",
        "    num_zeros, num_ones = 0.0, 0.0\n",
        "    for element in batch:\n",
        "      if element == 0.0:\n",
        "        num_zeros += 1.0\n",
        "      elif element == 1.0:\n",
        "        num_ones += 1.0\n",
        "      else:\n",
        "        print(\"Error occured, incorrect label\")\n",
        "    batchwise_balance.append(num_ones/(num_ones+num_zeros))\n",
        "  if training:\n",
        "    data = \"training\"\n",
        "  elif validation:\n",
        "    data = \"training\"\n",
        "  elif testing:\n",
        "    data = \"testing\"\n",
        "  else:\n",
        "    data = \"misc.\"\n",
        "  print(\"Results for {} data:\".format(data))\n",
        "  for i in range(len(batchwise_balance)):\n",
        "    print(\"Percenatge of batch {} with label 1: {}%\".format(i+1, (100*batchwise_balance[i])))\n",
        "  if get_total:\n",
        "    if training:\n",
        "      data_balance(label_loader, get_total = True, training = True)\n",
        "      print(\"Number of iterations in an epoch: {}\".format(len(batchwise_balance)))\n",
        "    elif validation:\n",
        "      data_balance(label_loader, get_total = True, validation = True)\n",
        "    elif testing:\n",
        "      data_balance(label_loader, get_total = True, testing = True)\n",
        "    else:\n",
        "      data_balance(label_loader, get_total = True)\n",
        "      print(\"Number of iterations in an epoch: {}\".format(len(batchwise_balance)))\n",
        "\n",
        "### FOR GETTING SAMPLE RESULTS\n",
        "\n",
        "def get_sample_results(model, loader, label_loader, full_input = False, random_sample = True, num_to_display = 5, display_outputs = False, seed = 5):\n",
        "  if random_sample and not full_input:\n",
        "    length = 0\n",
        "    for batch in label_loader:\n",
        "      length += len(batch)\n",
        "    torch.manual_seed(seed)\n",
        "    index = torch.randperm(length)\n",
        "  inputs, outputs, targets, predictions = [], [], [], []\n",
        "  for (data_batch, label_batch) in zip(loader, label_loader):\n",
        "    #print(data_batch)\n",
        "    for (data, label) in zip(data_batch, label_batch):\n",
        "      inputs.append(data)\n",
        "      outputs.append(model(data))\n",
        "      targets.append(label)\n",
        "  #inputs = torch.tensor(inputs)\n",
        "  outputs = torch.tensor(outputs)\n",
        "  targets = torch.tensor(targets)\n",
        "  predictions = torch.where(outputs>0.5, 1, 0)\n",
        "\n",
        "  print_count = 0\n",
        "  for i in index:\n",
        "    print_count += 1\n",
        "    print(\"Sample {} ...............\".format(print_count))\n",
        "    print(\"Inputs: \")\n",
        "    print(inputs[i])\n",
        "    print(\"Model predictions: \")\n",
        "    print(predictions[i])\n",
        "    print(\"Actual label\")\n",
        "    print([targets[i]])\n",
        "    if display_outputs:\n",
        "      print(\"Model outputs\")\n",
        "      print(outputs[i])\n",
        "    \n",
        "    if (print_count == num_to_display) and not full_input:\n",
        "      print(\"Done printing samples\")\n",
        "      return\n",
        "    elif full_input and print_count == length:\n",
        "      print(\"Done printing samples\")\n",
        "      return\n",
        "\n",
        "### DISPLAY DATA LOADER\n",
        "\n",
        "def display_loader(loader):\n",
        "  for stuff in loader:\n",
        "    print(stuff)"
      ],
      "execution_count": 8,
      "outputs": []
    },
    {
      "cell_type": "code",
      "metadata": {
        "id": "aPFWgCC30XSi"
      },
      "source": [
        "### GET STATISTICS ON INPUTS AND OUTPUTS OF MODEL\n",
        "\n",
        "### GET AVERAGE INPUT FROM A DATA SET\n",
        "def get_avg_inputs(loader, dictionary):\n",
        "  fields = []\n",
        "  for data_batch in loader:\n",
        "    for data in data_batch:\n",
        "      row = []\n",
        "      for field in data:\n",
        "        row.append(field)\n",
        "      fields.append(row)\n",
        "  sum = fields[0]\n",
        "  for i in range(len(sum)):\n",
        "    sum[i] = 0.0\n",
        "  for row in fields:\n",
        "    for i in range(len(row)):\n",
        "      sum[i] += row[i]\n",
        "  for i in range(len(sum)):\n",
        "    print(\"Average {}: {}\".format(dictionary[i],(sum[i]/len(fields))))\n",
        "\n",
        "### Get PORTION WITH A GIVEN PREDICTION\n",
        "\n",
        "def print_portion_output(model, loader, label_loader, get_ones = True, get_zeros = True, get_label = False):\n",
        "  pred_zeros, pred_ones, label_zeros, label_ones = 0.0, 0.0, 0.0, 0.0\n",
        "  for (data_batch, label_batch) in zip(loader, label_loader):\n",
        "    for (data, label) in zip(data_batch, label_batch):\n",
        "      output = model(data)\n",
        "      if output >= 0.5:\n",
        "        pred_ones += 1.0\n",
        "      else:\n",
        "        pred_zeros += 1.0\n",
        "      if label == 1.0:\n",
        "        label_ones += 1.0\n",
        "      elif label == 0.0:\n",
        "        label_zeros += 0.0\n",
        "  if get_zeros:\n",
        "    print(\"Predictions of 0: {}\".format(pred_zeros/(pred_zeros+pred_ones)))\n",
        "  if get_ones:\n",
        "    print(\"Predictions of 1: {}\".format(pred_ones/(pred_zeros+pred_ones)))\n",
        "  if get_zeros and get_label:\n",
        "    print(\"Labels of 0: {}\".format(label_zeros/(label_zeros+label_ones)))\n",
        "  if get_ones and get_label:\n",
        "    print(\"Labels of 1: {}\".format(label_ones/(label_zeros+label_ones)))\n",
        "\n",
        "### GET PORTION CORRECTLY LABELLED\n",
        "\n",
        "def corr_labelled(model, loader, label_loader, get_ones = True, get_zeros = True):\n",
        "  #targets, predictions = [], []\n",
        "  num_ones, num_zeros, corr_ones, corr_zeros = 0.0, 0.0, 0.0, 0.0 \n",
        "  for (data_batch, label_batch) in zip(loader, label_loader):\n",
        "    for (data, label) in zip(data_batch, label_batch):\n",
        "      output = model(data)\n",
        "      print(\"{} {}\".format(output, label))\n",
        "      if output >= 0.5 and label == 1.0:\n",
        "        num_ones += 1.0\n",
        "        corr_ones += 1.0\n",
        "      elif output < 0.5 and label == 0.0:\n",
        "        num_zeros += 1.0\n",
        "        corr_zeros += 1.0\n",
        "      elif label == 1.0:\n",
        "        num_ones += 1.0\n",
        "      elif label == 0.0:\n",
        "        num_zeros += 1.0\n",
        "      else:\n",
        "        print(\"Some error occured in corr_labelled\")\n",
        "  if get_ones:\n",
        "    print(\"Portion of ones correctly labelled: {}\".format(corr_ones/num_ones))\n",
        "  if get_zeros:\n",
        "    print(\"Portion of zeros correctly labelled: {}\".format(corr_zeros/num_zeros))"
      ],
      "execution_count": 9,
      "outputs": []
    },
    {
      "cell_type": "code",
      "metadata": {
        "colab": {
          "base_uri": "https://localhost:8080/",
          "height": 811
        },
        "id": "EMrAox8UHidh",
        "outputId": "5207262b-6a3e-4aa2-fecf-d7163aae0d7c"
      },
      "source": [
        "### RUNNING THE CODE\n",
        "\n",
        "#LOADING CSV AND GETTING DATA SAMPLERS\n",
        "data_size, data, dictionary = load_csv(directory)\n",
        "data = str_to_flt(data)\n",
        "data, labels = seperate_labels(data)\n",
        "training_sampler, validation_sampler, testing_sampler = get_samplers(data_size)\n",
        "\n",
        "#GETTING DATA LOADERS\n",
        "batch_size = 20\n",
        "training_loader = get_loaders(data, training_sampler, batch_size)\n",
        "training_label_loader = get_loaders(labels, training_sampler, batch_size)\n",
        "validation_loader = get_loaders(data, validation_sampler, batch_size)\n",
        "validation_label_loader = get_loaders(labels, validation_sampler, batch_size)\n",
        "testing_loader = get_loaders(data, testing_sampler, batch_size)\n",
        "testing_label_loader = get_loaders(labels, testing_sampler, batch_size)\n",
        "\n",
        "data_balance(training_label_loader, training = True, get_total = True)\n",
        "data_balance(validation_label_loader, validation = True)\n",
        "data_balance(testing_label_loader, testing = True)\n",
        "\n",
        "model = training(training_loader, training_label_loader, validation_loader, validation_label_loader, epochs = 1000, learning_rate = 0.0001)\n",
        "print(\"Training accuracy: {}\".format(get_accuracy(model, training_loader, training_label_loader, show_data = False)))\n",
        "print(\"Validation accuracy: {}\".format(get_accuracy(model, validation_loader, validation_label_loader, show_data = False)))\n",
        "print(\"Testing accuracy: {}\".format(get_accuracy(model, testing_loader, testing_label_loader, show_data = False)))"
      ],
      "execution_count": 10,
      "outputs": [
        {
          "output_type": "stream",
          "text": [
            "Percentage of training data with label 1: 47.752808988764045%\n",
            "Size of training set: 178.0\n",
            "Percentage of validation data with label 1: 47.45762711864407%\n",
            "Percentage of testing data with label 1: 40.0%\n",
            "Starting training\n",
            "Done training, time elapsed: 95.62 seconds\n",
            "Number of iterations: 9000\n",
            "Number of epochs: 1000\n"
          ],
          "name": "stdout"
        },
        {
          "output_type": "display_data",
          "data": {
            "image/png": "[encoded data removed]",
            "text/plain": [
              "<Figure size 432x288 with 1 Axes>"
            ]
          },
          "metadata": {
            "tags": [],
            "needs_background": "light"
          }
        },
        {
          "output_type": "stream",
          "text": [
            "Final loss: 0.021220582723617553\n",
            "Final training accuracy: 0.8539325842696629\n",
            "Final validation accuracy: 0.8813559322033898\n",
            "Training accuracy: 0.8539325842696629\n",
            "Validation accuracy: 0.8813559322033898\n",
            "Testing accuracy: 0.75\n"
          ],
          "name": "stdout"
        },
        {
          "output_type": "display_data",
          "data": {
            "image/png": "[encoded data removed]",
            "text/plain": [
              "<Figure size 432x288 with 1 Axes>"
            ]
          },
          "metadata": {
            "tags": [],
            "needs_background": "light"
          }
        }
      ]
    },
    {
      "cell_type": "code",
      "metadata": {
        "colab": {
          "base_uri": "https://localhost:8080/"
        },
        "id": "yM8yPBDS5FgX",
        "outputId": "c8ab6c71-adf3-4a4c-a00f-b51b9ff41243"
      },
      "source": [
        "get_sample_results(model, testing_loader, testing_label_loader, num_to_display=10)"
      ],
      "execution_count": 14,
      "outputs": [
        {
          "output_type": "stream",
          "text": [
            "Sample 1 ...............\n",
            "Inputs: \n",
            "tensor([ 59.,   1.,   2., 140., 221.,   0.,   0., 164.,   1.,   0.,   1.,   0.,\n",
            "          3.])\n",
            "Model predictions: \n",
            "tensor(0)\n",
            "Actual label\n",
            "[tensor(0.)]\n",
            "Sample 2 ...............\n",
            "Inputs: \n",
            "tensor([6.6000e+01, 1.0000e+00, 4.0000e+00, 1.1200e+02, 2.1200e+02, 0.0000e+00,\n",
            "        2.0000e+00, 1.3200e+02, 1.0000e+00, 1.0000e-01, 1.0000e+00, 1.0000e+00,\n",
            "        3.0000e+00])\n",
            "Model predictions: \n",
            "tensor(0)\n",
            "Actual label\n",
            "[tensor(1.)]\n",
            "Sample 3 ...............\n",
            "Inputs: \n",
            "tensor([ 54.0000,   1.0000,   4.0000, 110.0000, 239.0000,   0.0000,   0.0000,\n",
            "        126.0000,   1.0000,   2.8000,   2.0000,   1.0000,   7.0000])\n",
            "Model predictions: \n",
            "tensor(1)\n",
            "Actual label\n",
            "[tensor(1.)]\n",
            "Sample 4 ...............\n",
            "Inputs: \n",
            "tensor([ 42.,   1.,   4., 140., 226.,   0.,   0., 178.,   0.,   0.,   1.,   0.,\n",
            "          3.])\n",
            "Model predictions: \n",
            "tensor(0)\n",
            "Actual label\n",
            "[tensor(0.)]\n",
            "Sample 5 ...............\n",
            "Inputs: \n",
            "tensor([ 57.0000,   1.0000,   3.0000, 128.0000, 229.0000,   0.0000,   2.0000,\n",
            "        150.0000,   0.0000,   0.4000,   2.0000,   1.0000,   7.0000])\n",
            "Model predictions: \n",
            "tensor(1)\n",
            "Actual label\n",
            "[tensor(1.)]\n",
            "Sample 6 ...............\n",
            "Inputs: \n",
            "tensor([ 47.,   1.,   3., 138., 257.,   0.,   2., 156.,   0.,   0.,   1.,   0.,\n",
            "          3.])\n",
            "Model predictions: \n",
            "tensor(0)\n",
            "Actual label\n",
            "[tensor(0.)]\n",
            "Sample 7 ...............\n",
            "Inputs: \n",
            "tensor([ 63.,   0.,   2., 140., 195.,   0.,   0., 179.,   0.,   0.,   1.,   2.,\n",
            "          3.])\n",
            "Model predictions: \n",
            "tensor(0)\n",
            "Actual label\n",
            "[tensor(0.)]\n",
            "Sample 8 ...............\n",
            "Inputs: \n",
            "tensor([5.2000e+01, 1.0000e+00, 4.0000e+00, 1.0800e+02, 2.3300e+02, 1.0000e+00,\n",
            "        0.0000e+00, 1.4700e+02, 0.0000e+00, 1.0000e-01, 1.0000e+00, 3.0000e+00,\n",
            "        7.0000e+00])\n",
            "Model predictions: \n",
            "tensor(1)\n",
            "Actual label\n",
            "[tensor(0.)]\n",
            "Sample 9 ...............\n",
            "Inputs: \n",
            "tensor([ 59.0000,   1.0000,   4.0000, 170.0000, 326.0000,   0.0000,   2.0000,\n",
            "        140.0000,   1.0000,   3.4000,   3.0000,   0.0000,   7.0000])\n",
            "Model predictions: \n",
            "tensor(1)\n",
            "Actual label\n",
            "[tensor(1.)]\n",
            "Sample 10 ...............\n",
            "Inputs: \n",
            "tensor([ 59.,   0.,   4., 174., 249.,   0.,   0., 143.,   1.,   0.,   2.,   0.,\n",
            "          3.])\n",
            "Model predictions: \n",
            "tensor(0)\n",
            "Actual label\n",
            "[tensor(1.)]\n",
            "Done printing samples\n"
          ],
          "name": "stdout"
        }
      ]
    },
    {
      "cell_type": "code",
      "metadata": {
        "colab": {
          "base_uri": "https://localhost:8080/"
        },
        "id": "Hm0uS_8r5ZwP",
        "outputId": "e43d7b6b-6acd-4083-e3a4-216f649592a3"
      },
      "source": [
        "print(dictionary)"
      ],
      "execution_count": 13,
      "outputs": [
        {
          "output_type": "stream",
          "text": [
            "{0: 'Age', 1: 'Sex', 2: 'Chest_Pain', 3: 'Resting_Blood_Pressure', 4: 'Colestrol', 5: 'Fasting_Blood_Sugar', 6: 'Rest_ECG', 7: 'MAX_Heart_Rate', 8: 'Exercised_Induced_Angina', 9: 'ST_Depression', 10: 'Slope', 11: 'Major_Vessels', 12: 'Thalessemia', 13: 'Target'}\n"
          ],
          "name": "stdout"
        }
      ]
    },
    {
      "cell_type": "code",
      "metadata": {
        "id": "7kZrxRJL7k8-"
      },
      "source": [
        "def avg_prediction(model, loader, label_loader):\n",
        "  total_pred, total_label, total = 0.0, 0.0, 0.0\n",
        "  for (data_batch, label_batch) in zip(loader, label_loader):\n",
        "    for (data, label) in zip(data_batch, label_batch):\n",
        "      output = model(data)\n",
        "      total += 1.0\n",
        "      if label == 1.0:\n",
        "        total_label += 1.0\n",
        "      if output >= 0.5:\n",
        "        total_pred += 1.0\n",
        "  print(\"Avg. prediction: {}\".format(total_pred/total))\n",
        "  print(\"Avg. label: {}\".format(total_label/total))"
      ],
      "execution_count": 20,
      "outputs": []
    },
    {
      "cell_type": "code",
      "metadata": {
        "colab": {
          "base_uri": "https://localhost:8080/"
        },
        "id": "JUBVzPSc80Yb",
        "outputId": "33af9333-7906-4a19-ce79-60026788b03b"
      },
      "source": [
        "avg_prediction(model, validation_loader, validation_label_loader)"
      ],
      "execution_count": 23,
      "outputs": [
        {
          "output_type": "stream",
          "text": [
            "Avg. prediction: 0.3898305084745763\n",
            "Avg. label: 0.4745762711864407\n"
          ],
          "name": "stdout"
        }
      ]
    }
  ]
}