{
  "nbformat": 4,
  "nbformat_minor": 0,
  "metadata": {
    "colab": {
      "name": "Project v_2_b",
      "provenance": [],
      "authorship_tag": "ABX9TyPwP33MIWUegTn4hsoDy+JZ",
      "include_colab_link": true
    },
    "kernelspec": {
      "name": "python3",
      "display_name": "Python 3"
    },
    "language_info": {
      "name": "python"
    }
  },
  "cells": [
    {
      "cell_type": "markdown",
      "metadata": {
        "id": "view-in-github",
        "colab_type": "text"
      },
      "source": [
        "<a href=\"https://colab.research.google.com/github/SLTHRN/Heart_disease_ML/blob/main/Multi-Class%20Model.ipynb\" target=\"_parent\"><img src=\"https://colab.research.google.com/assets/colab-badge.svg\" alt=\"Open In Colab\"/></a>"
      ]
    },
    {
      "cell_type": "code",
      "metadata": {
        "id": "dIvyoahTEwyy",
        "colab": {
          "base_uri": "https://localhost:8080/"
        },
        "outputId": "0d40e5ba-c402-4bf3-b0bd-58f706f62cdd"
      },
      "source": [
        "########################\n",
        "### IMPORT LIBRARIES\n",
        "########################\n",
        "\n",
        "import csv\n",
        "from google.colab import drive\n",
        "drive.mount('/content/drive')\n",
        "\n",
        "import torch\n",
        "import torch.nn as nn\n",
        "\n",
        "import torchvision\n",
        "from torchvision import datasets, transforms\n",
        "import torch.optim as optim\n",
        "import torch.nn.functional as F\n",
        "import matplotlib.pyplot as plt\n",
        "\n",
        "import numpy as np\n",
        "import pandas as pd\n",
        "import sklearn\n",
        "\n",
        "import time\n",
        "\n",
        "import csv\n",
        "from google.colab import drive\n",
        "drive.mount('/content/drive')\n",
        "\n",
        "import random"
      ],
      "execution_count": 1,
      "outputs": [
        {
          "output_type": "stream",
          "text": [
            "Mounted at /content/drive\n",
            "Drive already mounted at /content/drive; to attempt to forcibly remount, call drive.mount(\"/content/drive\", force_remount=True).\n"
          ],
          "name": "stdout"
        }
      ]
    },
    {
      "cell_type": "code",
      "metadata": {
        "id": "lKYP4UyNE2ya"
      },
      "source": [
        "### IMPORTING CSV FILE FROM GOOGLE DRIVE\n",
        "\n",
        "#FILE LOCATION IN GOOGLE DRIVE\n",
        "directory = '/content/drive/MyDrive/APS360PROJECT/New data.csv'"
      ],
      "execution_count": 2,
      "outputs": []
    },
    {
      "cell_type": "code",
      "metadata": {
        "id": "7kLAZvVCE9sc"
      },
      "source": [
        "### DEFINING FULLY CONNECTED NN MODEL NETWORK\n",
        "\n",
        "import torch\n",
        "import torch.nn as nn\n",
        "import torch.nn.functional as F\n",
        "\n",
        "#DEFINING A 3 LAYER FULLY CONNECTED MODEL\n",
        "class neuralNetwork(nn.Module):\n",
        "\n",
        "  def __init__(self):\n",
        "    super(neuralNetwork, self).__init__()\n",
        "    self.layer1 = nn.Linear(13,50)\n",
        "    self.layer2 = nn.Linear(50,70)\n",
        "    self.layer3 = nn.Linear(70,5)\n",
        "\n",
        "  def forward(self, x):\n",
        "    activation1 = self.layer1(x)\n",
        "    activation1 = F.relu(activation1)\n",
        "    activation2 = F.relu(self.layer2(activation1))\n",
        "    output = self.layer3(activation2)\n",
        "    return output"
      ],
      "execution_count": 3,
      "outputs": []
    },
    {
      "cell_type": "code",
      "metadata": {
        "id": "Tvkizwe9E_DD"
      },
      "source": [
        "### LOADING CSV FILE FROM DIRECTORY\n",
        "\n",
        "def load_csv(directory):\n",
        "  file = open(directory, \"r\")\n",
        "  retrieved = csv.reader(file)\n",
        "\n",
        "  data_size = -1\n",
        "  dictionary = {}\n",
        "  data = []\n",
        "\n",
        "  for row in retrieved:\n",
        "    data_size+= 1\n",
        "    if data_size == 0:\n",
        "      for i in range(len(row)):\n",
        "        dictionary[i] = row[i]\n",
        "    else:\n",
        "      data.append(row)\n",
        "\n",
        "  return data_size, data, dictionary"
      ],
      "execution_count": 4,
      "outputs": []
    },
    {
      "cell_type": "code",
      "metadata": {
        "id": "Zi02u4DqFAS5"
      },
      "source": [
        "### DATA STRING TO FLOAT\n",
        "\n",
        "def str_to_flt(data):\n",
        "  fail_count = 0\n",
        "\n",
        "  for i in range(len(data)):\n",
        "    row = data[i]\n",
        "    new_row = []\n",
        "    for j in range(len(row)):\n",
        "      if row[j].isnumeric():\n",
        "        new_row.append(float(row[j]))\n",
        "      else:\n",
        "        test = row[j].split('.')\n",
        "        if len(test) == 2 and (test[0].isnumeric() and test[1].isnumeric()):\n",
        "          new_row.append(float(row[j]))\n",
        "        else:\n",
        "          fail_count += 1\n",
        "          print('!!!!!! Not Numeric, count:' + str(fail_count))\n",
        "          new_row.append(row[j])\n",
        "    data[i] = new_row\n",
        "  return data"
      ],
      "execution_count": 5,
      "outputs": []
    },
    {
      "cell_type": "code",
      "metadata": {
        "id": "Z786BujBFBeN"
      },
      "source": [
        "### GET LABELS\n",
        "\n",
        "def seperate_labels(data):\n",
        "  labels = []\n",
        "\n",
        "  for row in data:\n",
        "    labels.append(int(row[-1]))\n",
        "    del row[-1]\n",
        "\n",
        "  return data, labels"
      ],
      "execution_count": 6,
      "outputs": []
    },
    {
      "cell_type": "code",
      "metadata": {
        "id": "ekv4tjlfngzr"
      },
      "source": [
        "### NEW SAMPLER GENERATION\n",
        "\n",
        "def get_samplers(data_size, labels, keep_fours = False, zero_balance = True, original_method = False, length_as_min = True,length_as_ones = True, limit = 80):\n",
        "  # NOTE THAT FOR ACCURAT COMPARISON BETWEEN THIS AND BINARY MODEL, USE original_method = True SHOULD BE USED, IN ORDER TO KEEP SAMPLING METHOD CONSISTENT FOR MORE RELIABLE PERFORMANCE COMPARISONS\n",
        "  # WHEN original_method = False, SAMPLING METHOD BEING USED WAS ONLY IMPLEMENTED FOR OBSERVATIONS ON MODEL PERFORMANCES WITH DIFFERENT METHODS OF DATA SAMPLING\n",
        "  zeros, ones, twos, threes, fours = [], [], [], [], []\n",
        "  for i in range(len(labels)):\n",
        "    if labels[i] == 0.0:\n",
        "      zeros.append(i)\n",
        "    elif labels[i] == 1.0:\n",
        "      ones.append(i)\n",
        "    elif labels[i] == 2.0:\n",
        "      twos.append(i)\n",
        "    elif labels[i] == 3.0:\n",
        "      threes.append(i)\n",
        "    elif labels[i] == 4.0:\n",
        "      if keep_fours:\n",
        "        fours.append(i)\n",
        "  if zero_balance:\n",
        "    if length_as_min:\n",
        "      discriminator = return_min_length(zeros, ones, twos, threes, fours)\n",
        "      if keep_fours:\n",
        "        index = get_shuffled(zeros[:discriminator], ones[:discriminator], twos[:discriminator], threes[:discriminator], fours[:discriminator])\n",
        "      else:\n",
        "        index = get_shuffled(zeros[:discriminator], ones[:discriminator], twos[:discriminator], threes[:discriminator], [])\n",
        "    elif length_as_ones:\n",
        "      discriminator = int(len(ones))\n",
        "      index = get_shuffled(zeros[:discriminator], ones, twos, threes, fours)\n",
        "    else:\n",
        "      index = get_shuffled(zeros[:limit], ones, twos, threes, fours)\n",
        "  elif original_method:\n",
        "    torch.manual_seed(0)\n",
        "    index = torch.randperm(data_size)\n",
        "  else:\n",
        "    index = get_shuffled(zeros, ones, twos, threes, fours)\n",
        "  \n",
        "  end_training = int(len(index)*0.6)\n",
        "  end_validation = end_training+int(len(index)*0.2)\n",
        "\n",
        "  training_sampler = torch.tensor(index[:end_training])\n",
        "  validation_sampler = torch.tensor(index[end_training:end_validation])\n",
        "  testing_sampler = torch.tensor(index[end_validation:])\n",
        "\n",
        "  return training_sampler, validation_sampler, testing_sampler"
      ],
      "execution_count": 7,
      "outputs": []
    },
    {
      "cell_type": "code",
      "metadata": {
        "id": "XPIGlurT_KzH"
      },
      "source": [
        "### GET MIN LENGTH OF FIVE LISTS (THAT IS NOT ZERO)\n",
        "\n",
        "def return_min_length(zeros, ones, twos, threes, fours):\n",
        "  min = len(zeros)\n",
        "  if min == 0:\n",
        "    print(\"error, no labels as 0 found\")\n",
        "  a = [len(zeros), len(ones), len(twos), len(threes), len(fours)]\n",
        "  for i in a:\n",
        "    if (i < min) and (i > 0):\n",
        "      min = i\n",
        "  return min"
      ],
      "execution_count": 8,
      "outputs": []
    },
    {
      "cell_type": "code",
      "metadata": {
        "id": "-B08oVrSzv-D"
      },
      "source": [
        "### SHUFFLE ORDER OF FIVE INPUT LISTS, TO RANDOMIZE ORDERS FOR SAMPLING\n",
        "\n",
        "def get_shuffled(zeros, ones, twos, threes, fours):\n",
        "  for element in ones:\n",
        "    zeros.append(element)\n",
        "  for element in twos:\n",
        "    zeros.append(element)\n",
        "  for element in threes:\n",
        "    zeros.append(element)\n",
        "  for element in fours:\n",
        "    zeros.append(element)\n",
        "  random.seed(10)\n",
        "  random.shuffle(zeros)\n",
        "  return zeros"
      ],
      "execution_count": 9,
      "outputs": []
    },
    {
      "cell_type": "code",
      "metadata": {
        "id": "-6JftTQOFoSC"
      },
      "source": [
        "### GENERATING DATA LOADERS\n",
        "\n",
        "def get_loaders(data, sampler, batch_size = 64):\n",
        "  dataset = torch.tensor(data)\n",
        "\n",
        "  loader = torch.utils.data.DataLoader(dataset=dataset, batch_size=batch_size, sampler=sampler)\n",
        "  \n",
        "  return loader"
      ],
      "execution_count": 10,
      "outputs": []
    },
    {
      "cell_type": "code",
      "metadata": {
        "id": "Jw8Mr3K2z4nO"
      },
      "source": [
        "### DISPLAY ALL DATA IN A GIVEN LOADER\n",
        "\n",
        "def display_loader(loader):\n",
        "  for stuff in loader:\n",
        "    print(stuff)"
      ],
      "execution_count": 11,
      "outputs": []
    },
    {
      "cell_type": "code",
      "metadata": {
        "id": "wuArVpgAFpfn"
      },
      "source": [
        "### CALCULATE ACCURACY OF MODEL\n",
        "\n",
        "def get_accuracy(model, d_loader, l_loader, show_data = False):\n",
        "  correct = 0\n",
        "  total = 0\n",
        "\n",
        "  for (data, label) in zip(d_loader, l_loader):\n",
        "    output = model(data)\n",
        "    pred = output.max(1)[1]\n",
        "    if show_data:\n",
        "      print(\"The predictions are: {}\".format(pred))\n",
        "      print(\"The labels are: {}\".format(label))\n",
        "    for i in range(len(pred)):\n",
        "      total += 1.0\n",
        "      if label[i] == pred[i]:\n",
        "        correct += 1.0\n",
        "  return correct/total"
      ],
      "execution_count": 12,
      "outputs": []
    },
    {
      "cell_type": "code",
      "metadata": {
        "id": "8eanPTeiFqyH"
      },
      "source": [
        "### MODEL TRAINING\n",
        "\n",
        "def training(t_loader, t_label_loader, v_loader, v_label_loader, epochs=10, learning_rate=0.001):\n",
        "  n = 0\n",
        "  iters, losses, training_accuracy, validation_accuracy = [], [], [], []\n",
        "\n",
        "  model = neuralNetwork()\n",
        "  criterion = nn.CrossEntropyLoss()\n",
        "  optimizer = torch.optim.Adam(model.parameters(), lr=learning_rate)\n",
        "\n",
        "  print(\"Starting training\")\n",
        "  start_time = time.time()\n",
        "  for epoch in range(epochs):\n",
        "    for (data, label) in zip(t_loader, t_label_loader):\n",
        "      output = model(data)\n",
        "      loss = criterion(output, label)\n",
        "      loss.backward()\n",
        "      optimizer.step()\n",
        "      optimizer.zero_grad()\n",
        "\n",
        "      iters.append(n)\n",
        "      losses.append(float(loss)/batch_size)\n",
        "      training_accuracy.append(get_accuracy(model, t_loader, t_label_loader))\n",
        "      validation_accuracy.append(get_accuracy(model, v_loader, v_label_loader))\n",
        "      n += 1\n",
        "\n",
        "  end_time=time.time()\n",
        "  print(\"Done training, time elapsed: {:.2f} seconds\".format(end_time-start_time))\n",
        "  print(\"Number of iterations: {}\".format(iters[-1]+1))\n",
        "  print(\"Number of epochs: {}\".format(epochs))\n",
        "  plt.title(\"Training\")\n",
        "  plt.plot(iters, losses, label=\"Train\")\n",
        "  plt.xlabel(\"Iterations\")\n",
        "  plt.ylabel(\"Loss\")\n",
        "  plt.show()\n",
        "\n",
        "  plt.title(\"Accuracies\")\n",
        "  plt.plot(iters, validation_accuracy, label = \"Validation\")\n",
        "  plt.plot(iters, training_accuracy, label = \"Training\")\n",
        "  plt.xlabel(\"Iterations\")\n",
        "  plt.ylabel(\"Accuracy\")\n",
        "  plt.show\n",
        "\n",
        "  print(\"Final loss: {}\".format(losses[-1]))\n",
        "  print(\"Final training accuracy: {}\".format(training_accuracy[-1]))\n",
        "  print(\"Final validation accuracy: {}\".format(validation_accuracy[-1]))\n",
        "  return model"
      ],
      "execution_count": 13,
      "outputs": []
    },
    {
      "cell_type": "code",
      "metadata": {
        "id": "C8oXKWSrFuGb"
      },
      "source": [
        "### GET BALANCE OF DATA\n",
        "\n",
        "def data_balance(label_loader, training = False, validation = False, testing = False, get_total = False, get_ones = False, get_twos = False, get_threes = False, get_fours = False):\n",
        "  num_zeros, num_ones, num_twos, num_threes, num_fours, total = 0.0, 0.0, 0.0, 0.0, 0.0, 0.0\n",
        "  for batch in label_loader:\n",
        "    for element in batch:\n",
        "      total += 1.0\n",
        "      if element == 0.0:\n",
        "        num_zeros += 1.0\n",
        "      elif element == 1.0:\n",
        "        num_ones += 1.0\n",
        "      elif element == 2.0:\n",
        "        num_twos += 1.0\n",
        "      elif element == 3.0:\n",
        "        num_threes += 1.0\n",
        "      elif element == 4.0:\n",
        "        num_fours += 1.0\n",
        "  if training:\n",
        "    data = \"training\"\n",
        "  elif validation:\n",
        "    data = \"validation\"\n",
        "  elif testing:\n",
        "    data = \"testing\"\n",
        "  else:\n",
        "    data = \"misc.\"\n",
        "  print(\"Percentage of {} data with label 0: {}%\".format(data, num_zeros/total))\n",
        "  if get_ones:\n",
        "    print(\"Percentage of {} data with label 1: {}%\".format(data, num_ones/total))\n",
        "  if get_twos:\n",
        "    print(\"Percentage of {} data with label 2: {}%\".format(data, num_twos/total))\n",
        "  if get_threes:\n",
        "    print(\"Percentage of {} data with label 3: {}%\".format(data, num_threes/total))\n",
        "  if get_fours:\n",
        "    print(\"Percentage of {} data with label 4: {}%\".format(data, num_fours/total))\n",
        "  if get_total:\n",
        "    print(\"Size of {} set: {}\".format(data, int(total)))"
      ],
      "execution_count": 14,
      "outputs": []
    },
    {
      "cell_type": "code",
      "metadata": {
        "colab": {
          "base_uri": "https://localhost:8080/",
          "height": 1000
        },
        "id": "idV3bxSxn3mM",
        "outputId": "0acf9335-530b-4f55-9e91-5a334cd8f1a3"
      },
      "source": [
        "### RUNNING THE CODE\n",
        "##################\n",
        "\n",
        "# LOADING FILE AND GETTING SAMPLERS\n",
        "data_size, data, dictionary = load_csv(directory)\n",
        "data = str_to_flt(data)\n",
        "data, labels = seperate_labels(data)\n",
        "training_sampler, validation_sampler, testing_sampler = get_samplers(data_size, labels, keep_fours = True, zero_balance = False, original_method = True) # NOTE THAT AS original_method = True, THIS MODEL USES ALL DATA, AND SAME SAMPLING METHOD USED IN BINARY MODEL\n",
        "\n",
        "# GETTING DATALOADERS\n",
        "batch_size = 20\n",
        "training_loader = get_loaders(data, training_sampler, batch_size)\n",
        "training_label_loader = get_loaders(labels, training_sampler, batch_size)\n",
        "validation_loader = get_loaders(data, validation_sampler, batch_size)\n",
        "validation_label_loader = get_loaders(labels, validation_sampler, batch_size)\n",
        "testing_loader = get_loaders(data, testing_sampler, batch_size)\n",
        "testing_label_loader = get_loaders(labels, testing_sampler, batch_size)\n",
        "\n",
        "# ANALYSING COMPOSITIONS OF EACH DATASET, BY GIVING PORTION OF DATASET WITH GIVEN TARGET LABEL\n",
        "data_balance(training_label_loader, training = True, get_total = True, get_ones = True, get_twos = True, get_threes = True, get_fours = True)\n",
        "data_balance(validation_label_loader, validation = True, get_total = True)\n",
        "data_balance(testing_label_loader, testing = True, get_total = True)\n",
        "\n",
        "# TRAINING MODEL\n",
        "model = training(training_loader, training_label_loader, validation_loader, validation_label_loader, epochs = 200)\n",
        "\n",
        "# MODEL PERFORMANCE ON TESTING DATASET\n",
        "print(\"Testing accuracy: {}\".format(get_accuracy(model, testing_loader, testing_label_loader, show_data = True)))"
      ],
      "execution_count": 15,
      "outputs": [
        {
          "output_type": "stream",
          "text": [
            "/usr/local/lib/python3.7/dist-packages/ipykernel_launcher.py:40: UserWarning: To copy construct from a tensor, it is recommended to use sourceTensor.clone().detach() or sourceTensor.clone().detach().requires_grad_(True), rather than torch.tensor(sourceTensor).\n",
            "/usr/local/lib/python3.7/dist-packages/ipykernel_launcher.py:41: UserWarning: To copy construct from a tensor, it is recommended to use sourceTensor.clone().detach() or sourceTensor.clone().detach().requires_grad_(True), rather than torch.tensor(sourceTensor).\n",
            "/usr/local/lib/python3.7/dist-packages/ipykernel_launcher.py:42: UserWarning: To copy construct from a tensor, it is recommended to use sourceTensor.clone().detach() or sourceTensor.clone().detach().requires_grad_(True), rather than torch.tensor(sourceTensor).\n"
          ],
          "name": "stderr"
        },
        {
          "output_type": "stream",
          "text": [
            "Percentage of training data with label 0: 0.5224719101123596%\n",
            "Percentage of training data with label 1: 0.16853932584269662%\n",
            "Percentage of training data with label 2: 0.11797752808988764%\n",
            "Percentage of training data with label 3: 0.14606741573033707%\n",
            "Percentage of training data with label 4: 0.0449438202247191%\n",
            "Size of training set: 178\n",
            "Percentage of validation data with label 0: 0.5254237288135594%\n",
            "Size of validation set: 59\n",
            "Percentage of testing data with label 0: 0.6%\n",
            "Size of testing set: 60\n",
            "Starting training\n",
            "Done training, time elapsed: 16.26 seconds\n",
            "Number of iterations: 1800\n",
            "Number of epochs: 200\n"
          ],
          "name": "stdout"
        },
        {
          "output_type": "display_data",
          "data": {
            "image/png": "[encoded data removed]",
            "text/plain": [
              "<Figure size 432x288 with 1 Axes>"
            ]
          },
          "metadata": {
            "tags": [],
            "needs_background": "light"
          }
        },
        {
          "output_type": "stream",
          "text": [
            "Final loss: 0.03801067769527435\n",
            "Final training accuracy: 0.7191011235955056\n",
            "Final validation accuracy: 0.5932203389830508\n",
            "The predictions are: tensor([0, 0, 1, 0, 0, 0, 0, 2, 0, 0, 0, 0, 0, 0, 1, 0, 0, 0, 0, 0])\n",
            "The labels are: tensor([0, 1, 1, 0, 0, 0, 0, 2, 0, 0, 2, 0, 0, 0, 2, 0, 0, 3, 1, 0])\n",
            "The predictions are: tensor([0, 0, 3, 1, 0, 2, 0, 0, 0, 1, 0, 0, 0, 0, 0, 0, 0, 2, 0, 0])\n",
            "The labels are: tensor([2, 0, 2, 3, 1, 1, 0, 0, 0, 0, 0, 1, 0, 0, 0, 0, 0, 2, 0, 0])\n",
            "The predictions are: tensor([3, 0, 0, 0, 0, 0, 3, 0, 0, 0, 1, 0, 0, 0, 0, 0, 3, 0, 0, 0])\n",
            "The labels are: tensor([0, 1, 1, 0, 0, 1, 1, 1, 0, 0, 1, 1, 2, 0, 0, 0, 1, 0, 0, 1])\n",
            "Testing accuracy: 0.6333333333333333\n"
          ],
          "name": "stdout"
        },
        {
          "output_type": "display_data",
          "data": {
            "image/png": "[encoded data removed]",
            "text/plain": [
              "<Figure size 432x288 with 1 Axes>"
            ]
          },
          "metadata": {
            "tags": [],
            "needs_background": "light"
          }
        }
      ]
    }
  ]
}